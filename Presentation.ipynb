{
 "cells": [
  {
   "cell_type": "markdown",
   "metadata": {
    "slideshow": {
     "slide_type": "slide"
    }
   },
   "source": [
    "   # The 2017 Halloween Candy Hierarchy Ranking\n",
    "\n",
    "<img src=\"Candy_pic.png\" width=\"400\">"
   ]
  },
  {
   "cell_type": "markdown",
   "metadata": {
    "slideshow": {
     "slide_type": "slide"
    }
   },
   "source": [
    "## What do we know?\n",
    "\n",
    "* Online Survey Conducted in 2017 to see how people feel about different types of candies \n",
    "* Over 100 Candy types given as an option\n",
    "* Almost 2500 voters participated\n",
    "* How do the voters feel?\n",
    "    * JOY, MEH or DESPAIR\n",
    "* Other datas collected include age, gender, state and country"
   ]
  },
  {
   "cell_type": "markdown",
   "metadata": {
    "slideshow": {
     "slide_type": "slide"
    }
   },
   "source": [
    "# Which candies are most popular?\n",
    "\n",
    "* We want to caculate which candies are most popular or well liked\n",
    "* We assign a point system of 3, 1 and 0 for JOY, DESPAIR and MEH respectively\n",
    "* Add up total points for each candy type\n",
    "* Generate total scores for each candy type by summing up the individual scores \n",
    "* Inputs are gender, nationality and candy feelings\n",
    "* What is the gender distribution among the participants?\n",
    "* What does the score look like for CO participants? "
   ]
  },
  {
   "cell_type": "code",
   "execution_count": 51,
   "metadata": {
    "slideshow": {
     "slide_type": "skip"
    }
   },
   "outputs": [],
   "source": [
    "import pandas as pd\n",
    "import numpy as np\n",
    "import matplotlib\n",
    "import matplotlib.pyplot as plt\n",
    "candyData = pd.read_csv('candyhierarchy2017.csv',encoding = 'ISO-8859-1')\n",
    "pd.set_option('display.max_rows', 10)\n",
    "pd.set_option('display.max_columns', 50)\n",
    "candyData.set_index('Internal ID', inplace = True)\n",
    "candyData = candyData.rename(columns={'Q3: AGE': 'Age', 'Q1: GOING OUT?': 'Going_out', 'Q2: GENDER': 'Gender'} )"
   ]
  },
  {
   "cell_type": "code",
   "execution_count": 54,
   "metadata": {
    "slideshow": {
     "slide_type": "slide"
    }
   },
   "outputs": [
    {
     "data": {
      "text/html": [
       "<div>\n",
       "<style scoped>\n",
       "    .dataframe tbody tr th:only-of-type {\n",
       "        vertical-align: middle;\n",
       "    }\n",
       "\n",
       "    .dataframe tbody tr th {\n",
       "        vertical-align: top;\n",
       "    }\n",
       "\n",
       "    .dataframe thead th {\n",
       "        text-align: right;\n",
       "    }\n",
       "</style>\n",
       "<table border=\"1\" class=\"dataframe\">\n",
       "  <thead>\n",
       "    <tr style=\"text-align: right;\">\n",
       "      <th></th>\n",
       "      <th>Going_out</th>\n",
       "      <th>Gender</th>\n",
       "      <th>Age</th>\n",
       "      <th>Q4: COUNTRY</th>\n",
       "      <th>Q5: STATE, PROVINCE, COUNTY, ETC</th>\n",
       "      <th>Q6 | 100 Grand Bar</th>\n",
       "      <th>Q6 | Anonymous brown globs that come in black and orange wrappers\t(a.k.a. Mary Janes)</th>\n",
       "      <th>Q6 | Any full-sized candy bar</th>\n",
       "      <th>Q6 | Black Jacks</th>\n",
       "      <th>Q6 | Bonkers (the candy)</th>\n",
       "      <th>Q6 | Bonkers (the board game)</th>\n",
       "      <th>Q6 | Bottle Caps</th>\n",
       "      <th>Q6 | Box'o'Raisins</th>\n",
       "      <th>Q6 | Broken glow stick</th>\n",
       "      <th>Q6 | Butterfinger</th>\n",
       "      <th>Q6 | Cadbury Creme Eggs</th>\n",
       "      <th>Q6 | Candy Corn</th>\n",
       "      <th>Q6 | Candy that is clearly just the stuff given out for free at restaurants</th>\n",
       "      <th>Q6 | Caramellos</th>\n",
       "      <th>Q6 | Cash, or other forms of legal tender</th>\n",
       "      <th>Q6 | Chardonnay</th>\n",
       "      <th>Q6 | Chick-o-Sticks (we donÕt know what that is)</th>\n",
       "      <th>Q6 | Chiclets</th>\n",
       "      <th>Q6 | Coffee Crisp</th>\n",
       "      <th>Q6 | Creepy Religious comics/Chick Tracts</th>\n",
       "      <th>...</th>\n",
       "      <th>Q6 | Sweetums (a friend to diabetes)</th>\n",
       "      <th>Q6 | Take 5</th>\n",
       "      <th>Q6 | Tic Tacs</th>\n",
       "      <th>Q6 | Those odd marshmallow circus peanut things</th>\n",
       "      <th>Q6 | Three Musketeers</th>\n",
       "      <th>Q6 | Tolberone something or other</th>\n",
       "      <th>Q6 | Trail Mix</th>\n",
       "      <th>Q6 | Twix</th>\n",
       "      <th>Q6 | Vials of pure high fructose corn syrup, for main-lining into your vein</th>\n",
       "      <th>Q6 | Vicodin</th>\n",
       "      <th>Q6 | Whatchamacallit Bars</th>\n",
       "      <th>Q6 | White Bread</th>\n",
       "      <th>Q6 | Whole Wheat anything</th>\n",
       "      <th>Q6 | York Peppermint Patties</th>\n",
       "      <th>Q7: JOY OTHER</th>\n",
       "      <th>Q8: DESPAIR OTHER</th>\n",
       "      <th>Q9: OTHER COMMENTS</th>\n",
       "      <th>Q10: DRESS</th>\n",
       "      <th>Unnamed: 113</th>\n",
       "      <th>Q11: DAY</th>\n",
       "      <th>Q12: MEDIA [Daily Dish]</th>\n",
       "      <th>Q12: MEDIA [Science]</th>\n",
       "      <th>Q12: MEDIA [ESPN]</th>\n",
       "      <th>Q12: MEDIA [Yahoo]</th>\n",
       "      <th>Click Coordinates (x, y)</th>\n",
       "    </tr>\n",
       "    <tr>\n",
       "      <th>Internal ID</th>\n",
       "      <th></th>\n",
       "      <th></th>\n",
       "      <th></th>\n",
       "      <th></th>\n",
       "      <th></th>\n",
       "      <th></th>\n",
       "      <th></th>\n",
       "      <th></th>\n",
       "      <th></th>\n",
       "      <th></th>\n",
       "      <th></th>\n",
       "      <th></th>\n",
       "      <th></th>\n",
       "      <th></th>\n",
       "      <th></th>\n",
       "      <th></th>\n",
       "      <th></th>\n",
       "      <th></th>\n",
       "      <th></th>\n",
       "      <th></th>\n",
       "      <th></th>\n",
       "      <th></th>\n",
       "      <th></th>\n",
       "      <th></th>\n",
       "      <th></th>\n",
       "      <th></th>\n",
       "      <th></th>\n",
       "      <th></th>\n",
       "      <th></th>\n",
       "      <th></th>\n",
       "      <th></th>\n",
       "      <th></th>\n",
       "      <th></th>\n",
       "      <th></th>\n",
       "      <th></th>\n",
       "      <th></th>\n",
       "      <th></th>\n",
       "      <th></th>\n",
       "      <th></th>\n",
       "      <th></th>\n",
       "      <th></th>\n",
       "      <th></th>\n",
       "      <th></th>\n",
       "      <th></th>\n",
       "      <th></th>\n",
       "      <th></th>\n",
       "      <th></th>\n",
       "      <th></th>\n",
       "      <th></th>\n",
       "      <th></th>\n",
       "      <th></th>\n",
       "    </tr>\n",
       "  </thead>\n",
       "  <tbody>\n",
       "    <tr>\n",
       "      <th>90274337</th>\n",
       "      <td>No</td>\n",
       "      <td>Other</td>\n",
       "      <td>312</td>\n",
       "      <td>Canada</td>\n",
       "      <td>BC</td>\n",
       "      <td>MEH</td>\n",
       "      <td>MEH</td>\n",
       "      <td>JOY</td>\n",
       "      <td>DESPAIR</td>\n",
       "      <td>MEH</td>\n",
       "      <td>MEH</td>\n",
       "      <td>MEH</td>\n",
       "      <td>DESPAIR</td>\n",
       "      <td>DESPAIR</td>\n",
       "      <td>JOY</td>\n",
       "      <td>JOY</td>\n",
       "      <td>MEH</td>\n",
       "      <td>DESPAIR</td>\n",
       "      <td>MEH</td>\n",
       "      <td>MEH</td>\n",
       "      <td>JOY</td>\n",
       "      <td>MEH</td>\n",
       "      <td>MEH</td>\n",
       "      <td>JOY</td>\n",
       "      <td>DESPAIR</td>\n",
       "      <td>...</td>\n",
       "      <td>MEH</td>\n",
       "      <td>MEH</td>\n",
       "      <td>DESPAIR</td>\n",
       "      <td>DESPAIR</td>\n",
       "      <td>JOY</td>\n",
       "      <td>JOY</td>\n",
       "      <td>DESPAIR</td>\n",
       "      <td>MEH</td>\n",
       "      <td>MEH</td>\n",
       "      <td>JOY</td>\n",
       "      <td>MEH</td>\n",
       "      <td>MEH</td>\n",
       "      <td>MEH</td>\n",
       "      <td>JOY</td>\n",
       "      <td>The New Star Trek.  Joy almond bars.  Sugar cu...</td>\n",
       "      <td>pillow face. rubber bats.  opening a pumpkin a...</td>\n",
       "      <td>I am Groot!</td>\n",
       "      <td>Blue and black</td>\n",
       "      <td>NaN</td>\n",
       "      <td>Sunday</td>\n",
       "      <td>NaN</td>\n",
       "      <td>1.0</td>\n",
       "      <td>NaN</td>\n",
       "      <td>NaN</td>\n",
       "      <td>(69, 23)</td>\n",
       "    </tr>\n",
       "    <tr>\n",
       "      <th>90276367</th>\n",
       "      <td>No</td>\n",
       "      <td>Male</td>\n",
       "      <td>60</td>\n",
       "      <td>usa</td>\n",
       "      <td>colorado, boulder</td>\n",
       "      <td>NaN</td>\n",
       "      <td>NaN</td>\n",
       "      <td>NaN</td>\n",
       "      <td>NaN</td>\n",
       "      <td>NaN</td>\n",
       "      <td>NaN</td>\n",
       "      <td>NaN</td>\n",
       "      <td>NaN</td>\n",
       "      <td>NaN</td>\n",
       "      <td>NaN</td>\n",
       "      <td>NaN</td>\n",
       "      <td>NaN</td>\n",
       "      <td>NaN</td>\n",
       "      <td>NaN</td>\n",
       "      <td>NaN</td>\n",
       "      <td>NaN</td>\n",
       "      <td>NaN</td>\n",
       "      <td>NaN</td>\n",
       "      <td>NaN</td>\n",
       "      <td>NaN</td>\n",
       "      <td>...</td>\n",
       "      <td>NaN</td>\n",
       "      <td>NaN</td>\n",
       "      <td>NaN</td>\n",
       "      <td>NaN</td>\n",
       "      <td>NaN</td>\n",
       "      <td>NaN</td>\n",
       "      <td>NaN</td>\n",
       "      <td>NaN</td>\n",
       "      <td>NaN</td>\n",
       "      <td>NaN</td>\n",
       "      <td>NaN</td>\n",
       "      <td>NaN</td>\n",
       "      <td>NaN</td>\n",
       "      <td>NaN</td>\n",
       "      <td>NaN</td>\n",
       "      <td>NaN</td>\n",
       "      <td>NaN</td>\n",
       "      <td>NaN</td>\n",
       "      <td>NaN</td>\n",
       "      <td>NaN</td>\n",
       "      <td>NaN</td>\n",
       "      <td>NaN</td>\n",
       "      <td>NaN</td>\n",
       "      <td>NaN</td>\n",
       "      <td>NaN</td>\n",
       "    </tr>\n",
       "    <tr>\n",
       "      <th>90273440</th>\n",
       "      <td>No</td>\n",
       "      <td>Male</td>\n",
       "      <td>44</td>\n",
       "      <td>United States</td>\n",
       "      <td>UT</td>\n",
       "      <td>MEH</td>\n",
       "      <td>DESPAIR</td>\n",
       "      <td>JOY</td>\n",
       "      <td>DESPAIR</td>\n",
       "      <td>DESPAIR</td>\n",
       "      <td>DESPAIR</td>\n",
       "      <td>MEH</td>\n",
       "      <td>DESPAIR</td>\n",
       "      <td>DESPAIR</td>\n",
       "      <td>JOY</td>\n",
       "      <td>DESPAIR</td>\n",
       "      <td>MEH</td>\n",
       "      <td>MEH</td>\n",
       "      <td>MEH</td>\n",
       "      <td>JOY</td>\n",
       "      <td>JOY</td>\n",
       "      <td>DESPAIR</td>\n",
       "      <td>JOY</td>\n",
       "      <td>DESPAIR</td>\n",
       "      <td>JOY</td>\n",
       "      <td>...</td>\n",
       "      <td>MEH</td>\n",
       "      <td>MEH</td>\n",
       "      <td>JOY</td>\n",
       "      <td>DESPAIR</td>\n",
       "      <td>MEH</td>\n",
       "      <td>MEH</td>\n",
       "      <td>MEH</td>\n",
       "      <td>JOY</td>\n",
       "      <td>DESPAIR</td>\n",
       "      <td>JOY</td>\n",
       "      <td>JOY</td>\n",
       "      <td>DESPAIR</td>\n",
       "      <td>DESPAIR</td>\n",
       "      <td>JOY</td>\n",
       "      <td>NaN</td>\n",
       "      <td>Circus peanuts</td>\n",
       "      <td>NaN</td>\n",
       "      <td>White and gold</td>\n",
       "      <td>NaN</td>\n",
       "      <td>Friday</td>\n",
       "      <td>1.0</td>\n",
       "      <td>NaN</td>\n",
       "      <td>NaN</td>\n",
       "      <td>NaN</td>\n",
       "      <td>(32, 41)</td>\n",
       "    </tr>\n",
       "    <tr>\n",
       "      <th>90281108</th>\n",
       "      <td>No</td>\n",
       "      <td>Male</td>\n",
       "      <td>34</td>\n",
       "      <td>United States</td>\n",
       "      <td>PA</td>\n",
       "      <td>NaN</td>\n",
       "      <td>NaN</td>\n",
       "      <td>NaN</td>\n",
       "      <td>NaN</td>\n",
       "      <td>NaN</td>\n",
       "      <td>NaN</td>\n",
       "      <td>NaN</td>\n",
       "      <td>NaN</td>\n",
       "      <td>NaN</td>\n",
       "      <td>NaN</td>\n",
       "      <td>NaN</td>\n",
       "      <td>NaN</td>\n",
       "      <td>NaN</td>\n",
       "      <td>NaN</td>\n",
       "      <td>NaN</td>\n",
       "      <td>NaN</td>\n",
       "      <td>NaN</td>\n",
       "      <td>NaN</td>\n",
       "      <td>NaN</td>\n",
       "      <td>NaN</td>\n",
       "      <td>...</td>\n",
       "      <td>NaN</td>\n",
       "      <td>NaN</td>\n",
       "      <td>NaN</td>\n",
       "      <td>NaN</td>\n",
       "      <td>NaN</td>\n",
       "      <td>NaN</td>\n",
       "      <td>NaN</td>\n",
       "      <td>NaN</td>\n",
       "      <td>NaN</td>\n",
       "      <td>NaN</td>\n",
       "      <td>NaN</td>\n",
       "      <td>NaN</td>\n",
       "      <td>NaN</td>\n",
       "      <td>NaN</td>\n",
       "      <td>NaN</td>\n",
       "      <td>NaN</td>\n",
       "      <td>NaN</td>\n",
       "      <td>NaN</td>\n",
       "      <td>NaN</td>\n",
       "      <td>NaN</td>\n",
       "      <td>NaN</td>\n",
       "      <td>NaN</td>\n",
       "      <td>NaN</td>\n",
       "      <td>NaN</td>\n",
       "      <td>NaN</td>\n",
       "    </tr>\n",
       "    <tr>\n",
       "      <th>90277185</th>\n",
       "      <td>No</td>\n",
       "      <td>Female</td>\n",
       "      <td>43</td>\n",
       "      <td>United States</td>\n",
       "      <td>Florida</td>\n",
       "      <td>MEH</td>\n",
       "      <td>MEH</td>\n",
       "      <td>MEH</td>\n",
       "      <td>DESPAIR</td>\n",
       "      <td>JOY</td>\n",
       "      <td>DESPAIR</td>\n",
       "      <td>MEH</td>\n",
       "      <td>DESPAIR</td>\n",
       "      <td>DESPAIR</td>\n",
       "      <td>JOY</td>\n",
       "      <td>DESPAIR</td>\n",
       "      <td>JOY</td>\n",
       "      <td>DESPAIR</td>\n",
       "      <td>JOY</td>\n",
       "      <td>JOY</td>\n",
       "      <td>JOY</td>\n",
       "      <td>DESPAIR</td>\n",
       "      <td>JOY</td>\n",
       "      <td>DESPAIR</td>\n",
       "      <td>DESPAIR</td>\n",
       "      <td>...</td>\n",
       "      <td>MEH</td>\n",
       "      <td>MEH</td>\n",
       "      <td>JOY</td>\n",
       "      <td>DESPAIR</td>\n",
       "      <td>MEH</td>\n",
       "      <td>JOY</td>\n",
       "      <td>DESPAIR</td>\n",
       "      <td>JOY</td>\n",
       "      <td>DESPAIR</td>\n",
       "      <td>JOY</td>\n",
       "      <td>DESPAIR</td>\n",
       "      <td>DESPAIR</td>\n",
       "      <td>DESPAIR</td>\n",
       "      <td>JOY</td>\n",
       "      <td>Pez</td>\n",
       "      <td>NaN</td>\n",
       "      <td>NaN</td>\n",
       "      <td>White and gold</td>\n",
       "      <td>NaN</td>\n",
       "      <td>Sunday</td>\n",
       "      <td>NaN</td>\n",
       "      <td>1.0</td>\n",
       "      <td>NaN</td>\n",
       "      <td>NaN</td>\n",
       "      <td>(78, 28)</td>\n",
       "    </tr>\n",
       "  </tbody>\n",
       "</table>\n",
       "<p>5 rows × 119 columns</p>\n",
       "</div>"
      ],
      "text/plain": [
       "            Going_out  Gender  Age    Q4: COUNTRY  \\\n",
       "Internal ID                                         \n",
       "90274337           No   Other  312         Canada   \n",
       "90276367           No    Male   60            usa   \n",
       "90273440           No    Male   44  United States   \n",
       "90281108           No    Male   34  United States   \n",
       "90277185           No  Female   43  United States   \n",
       "\n",
       "            Q5: STATE, PROVINCE, COUNTY, ETC Q6 | 100 Grand Bar  \\\n",
       "Internal ID                                                       \n",
       "90274337                                  BC                MEH   \n",
       "90276367                   colorado, boulder                NaN   \n",
       "90273440                                  UT                MEH   \n",
       "90281108                                  PA                NaN   \n",
       "90277185                             Florida                MEH   \n",
       "\n",
       "            Q6 | Anonymous brown globs that come in black and orange wrappers\\t(a.k.a. Mary Janes)  \\\n",
       "Internal ID                                                                                          \n",
       "90274337                                                   MEH                                       \n",
       "90276367                                                   NaN                                       \n",
       "90273440                                               DESPAIR                                       \n",
       "90281108                                                   NaN                                       \n",
       "90277185                                                   MEH                                       \n",
       "\n",
       "            Q6 | Any full-sized candy bar Q6 | Black Jacks  \\\n",
       "Internal ID                                                  \n",
       "90274337                              JOY          DESPAIR   \n",
       "90276367                              NaN              NaN   \n",
       "90273440                              JOY          DESPAIR   \n",
       "90281108                              NaN              NaN   \n",
       "90277185                              MEH          DESPAIR   \n",
       "\n",
       "            Q6 | Bonkers (the candy) Q6 | Bonkers (the board game)  \\\n",
       "Internal ID                                                          \n",
       "90274337                         MEH                           MEH   \n",
       "90276367                         NaN                           NaN   \n",
       "90273440                     DESPAIR                       DESPAIR   \n",
       "90281108                         NaN                           NaN   \n",
       "90277185                         JOY                       DESPAIR   \n",
       "\n",
       "            Q6 | Bottle Caps Q6 | Box'o'Raisins Q6 | Broken glow stick  \\\n",
       "Internal ID                                                              \n",
       "90274337                 MEH            DESPAIR                DESPAIR   \n",
       "90276367                 NaN                NaN                    NaN   \n",
       "90273440                 MEH            DESPAIR                DESPAIR   \n",
       "90281108                 NaN                NaN                    NaN   \n",
       "90277185                 MEH            DESPAIR                DESPAIR   \n",
       "\n",
       "            Q6 | Butterfinger Q6 | Cadbury Creme Eggs Q6 | Candy Corn  \\\n",
       "Internal ID                                                             \n",
       "90274337                  JOY                     JOY             MEH   \n",
       "90276367                  NaN                     NaN             NaN   \n",
       "90273440                  JOY                 DESPAIR             MEH   \n",
       "90281108                  NaN                     NaN             NaN   \n",
       "90277185                  JOY                 DESPAIR             JOY   \n",
       "\n",
       "            Q6 | Candy that is clearly just the stuff given out for free at restaurants  \\\n",
       "Internal ID                                                                               \n",
       "90274337                                               DESPAIR                            \n",
       "90276367                                                   NaN                            \n",
       "90273440                                                   MEH                            \n",
       "90281108                                                   NaN                            \n",
       "90277185                                               DESPAIR                            \n",
       "\n",
       "            Q6 | Caramellos Q6 | Cash, or other forms of legal tender  \\\n",
       "Internal ID                                                             \n",
       "90274337                MEH                                       MEH   \n",
       "90276367                NaN                                       NaN   \n",
       "90273440                MEH                                       JOY   \n",
       "90281108                NaN                                       NaN   \n",
       "90277185                JOY                                       JOY   \n",
       "\n",
       "            Q6 | Chardonnay Q6 | Chick-o-Sticks (we donÕt know what that is)  \\\n",
       "Internal ID                                                                    \n",
       "90274337                JOY                                              MEH   \n",
       "90276367                NaN                                              NaN   \n",
       "90273440                JOY                                          DESPAIR   \n",
       "90281108                NaN                                              NaN   \n",
       "90277185                JOY                                          DESPAIR   \n",
       "\n",
       "            Q6 | Chiclets Q6 | Coffee Crisp  \\\n",
       "Internal ID                                   \n",
       "90274337              MEH               JOY   \n",
       "90276367              NaN               NaN   \n",
       "90273440              JOY           DESPAIR   \n",
       "90281108              NaN               NaN   \n",
       "90277185              JOY           DESPAIR   \n",
       "\n",
       "            Q6 | Creepy Religious comics/Chick Tracts  \\\n",
       "Internal ID                                             \n",
       "90274337                                      DESPAIR   \n",
       "90276367                                          NaN   \n",
       "90273440                                          JOY   \n",
       "90281108                                          NaN   \n",
       "90277185                                      DESPAIR   \n",
       "\n",
       "                      ...            Q6 | Sweetums (a friend to diabetes)  \\\n",
       "Internal ID           ...                                                   \n",
       "90274337              ...                                             MEH   \n",
       "90276367              ...                                             NaN   \n",
       "90273440              ...                                             MEH   \n",
       "90281108              ...                                             NaN   \n",
       "90277185              ...                                             MEH   \n",
       "\n",
       "            Q6 | Take 5 Q6 | Tic Tacs  \\\n",
       "Internal ID                             \n",
       "90274337            MEH       DESPAIR   \n",
       "90276367            NaN           NaN   \n",
       "90273440            MEH           JOY   \n",
       "90281108            NaN           NaN   \n",
       "90277185            MEH           JOY   \n",
       "\n",
       "            Q6 | Those odd marshmallow circus peanut things  \\\n",
       "Internal ID                                                   \n",
       "90274337                                            DESPAIR   \n",
       "90276367                                                NaN   \n",
       "90273440                                            DESPAIR   \n",
       "90281108                                                NaN   \n",
       "90277185                                            DESPAIR   \n",
       "\n",
       "            Q6 | Three Musketeers Q6 | Tolberone something or other  \\\n",
       "Internal ID                                                           \n",
       "90274337                      JOY                               JOY   \n",
       "90276367                      NaN                               NaN   \n",
       "90273440                      MEH                               MEH   \n",
       "90281108                      NaN                               NaN   \n",
       "90277185                      MEH                               JOY   \n",
       "\n",
       "            Q6 | Trail Mix Q6 | Twix  \\\n",
       "Internal ID                            \n",
       "90274337           DESPAIR       MEH   \n",
       "90276367               NaN       NaN   \n",
       "90273440               MEH       JOY   \n",
       "90281108               NaN       NaN   \n",
       "90277185           DESPAIR       JOY   \n",
       "\n",
       "            Q6 | Vials of pure high fructose corn syrup, for main-lining into your vein  \\\n",
       "Internal ID                                                                               \n",
       "90274337                                                   MEH                            \n",
       "90276367                                                   NaN                            \n",
       "90273440                                               DESPAIR                            \n",
       "90281108                                                   NaN                            \n",
       "90277185                                               DESPAIR                            \n",
       "\n",
       "            Q6 | Vicodin Q6 | Whatchamacallit Bars Q6 | White Bread  \\\n",
       "Internal ID                                                           \n",
       "90274337             JOY                       MEH              MEH   \n",
       "90276367             NaN                       NaN              NaN   \n",
       "90273440             JOY                       JOY          DESPAIR   \n",
       "90281108             NaN                       NaN              NaN   \n",
       "90277185             JOY                   DESPAIR          DESPAIR   \n",
       "\n",
       "            Q6 | Whole Wheat anything Q6 | York Peppermint Patties  \\\n",
       "Internal ID                                                          \n",
       "90274337                          MEH                          JOY   \n",
       "90276367                          NaN                          NaN   \n",
       "90273440                      DESPAIR                          JOY   \n",
       "90281108                          NaN                          NaN   \n",
       "90277185                      DESPAIR                          JOY   \n",
       "\n",
       "                                                 Q7: JOY OTHER  \\\n",
       "Internal ID                                                      \n",
       "90274337     The New Star Trek.  Joy almond bars.  Sugar cu...   \n",
       "90276367                                                   NaN   \n",
       "90273440                                                   NaN   \n",
       "90281108                                                   NaN   \n",
       "90277185                                                  Pez    \n",
       "\n",
       "                                             Q8: DESPAIR OTHER  \\\n",
       "Internal ID                                                      \n",
       "90274337     pillow face. rubber bats.  opening a pumpkin a...   \n",
       "90276367                                                   NaN   \n",
       "90273440                                        Circus peanuts   \n",
       "90281108                                                   NaN   \n",
       "90277185                                                   NaN   \n",
       "\n",
       "            Q9: OTHER COMMENTS      Q10: DRESS Unnamed: 113 Q11: DAY  \\\n",
       "Internal ID                                                            \n",
       "90274337           I am Groot!  Blue and black          NaN   Sunday   \n",
       "90276367                   NaN             NaN          NaN      NaN   \n",
       "90273440                   NaN  White and gold          NaN   Friday   \n",
       "90281108                   NaN             NaN          NaN      NaN   \n",
       "90277185                   NaN  White and gold          NaN   Sunday   \n",
       "\n",
       "            Q12: MEDIA [Daily Dish] Q12: MEDIA [Science] Q12: MEDIA [ESPN]  \\\n",
       "Internal ID                                                                  \n",
       "90274337                        NaN                  1.0               NaN   \n",
       "90276367                        NaN                  NaN               NaN   \n",
       "90273440                        1.0                  NaN               NaN   \n",
       "90281108                        NaN                  NaN               NaN   \n",
       "90277185                        NaN                  1.0               NaN   \n",
       "\n",
       "            Q12: MEDIA [Yahoo] Click Coordinates (x, y)  \n",
       "Internal ID                                              \n",
       "90274337                   NaN                 (69, 23)  \n",
       "90276367                   NaN                      NaN  \n",
       "90273440                   NaN                 (32, 41)  \n",
       "90281108                   NaN                      NaN  \n",
       "90277185                   NaN                 (78, 28)  \n",
       "\n",
       "[5 rows x 119 columns]"
      ]
     },
     "execution_count": 54,
     "metadata": {},
     "output_type": "execute_result"
    }
   ],
   "source": [
    "candyData.sample(5)"
   ]
  },
  {
   "cell_type": "markdown",
   "metadata": {
    "slideshow": {
     "slide_type": "slide"
    }
   },
   "source": [
    "# Cleaning activities\n",
    "\n",
    "We will clean the Going out, Gender and Age columns first\n",
    "\n",
    "   * Remove Strings from Age column\n",
    "   * Dealing with outliers\n",
    "   * Filling NA values\n",
    "   * Some participants in the survey entered decimals, fractions and some ranges as age\n",
    "       * 24-50, 45-55, 39.4 and 70 1/2 are some examples\n",
    "   * Survey Participants mean age is 42"
   ]
  },
  {
   "cell_type": "code",
   "execution_count": 55,
   "metadata": {
    "slideshow": {
     "slide_type": "skip"
    }
   },
   "outputs": [
    {
     "data": {
      "text/plain": [
       "100"
      ]
     },
     "execution_count": 55,
     "metadata": {},
     "output_type": "execute_result"
    }
   ],
   "source": [
    "candyData['Age'] = candyData['Age'].str.replace('\\D+', '')\n",
    "candyData['Age'] = pd.to_numeric(candyData['Age'], errors='coerce')\n",
    "candyData.Age.isnull().sum()"
   ]
  },
  {
   "cell_type": "code",
   "execution_count": 56,
   "metadata": {
    "slideshow": {
     "slide_type": "skip"
    }
   },
   "outputs": [],
   "source": [
    "candyData['Age'] = candyData['Age'].replace(2450, np.mean((24,50)))\n",
    "candyData['Age'] = candyData['Age'].replace(4555, np.mean((45,55)))\n",
    "candyData['Age'] = candyData['Age'].replace(394, 39)\n",
    "candyData['Age'] = candyData['Age'].replace(7012, 71)\n",
    "\n",
    "candyData['Age'] = candyData.Age.mask((candyData['Age'] > 105), np.nan)\n",
    "candyData['Age'] = candyData.Age.mask((candyData['Age'] < 3), np.nan)"
   ]
  },
  {
   "cell_type": "code",
   "execution_count": 57,
   "metadata": {
    "slideshow": {
     "slide_type": "skip"
    }
   },
   "outputs": [
    {
     "name": "stdout",
     "output_type": "stream",
     "text": [
      "42.11799660441426\n",
      "0\n"
     ]
    }
   ],
   "source": [
    "mean_age = candyData['Age'].mean(skipna=True)\n",
    "print(mean_age)\n",
    "candyData['Age'].fillna(value = mean_age, inplace = True)\n",
    "print(candyData.Age.isnull().sum())\n",
    "candyData['Age'] = candyData['Age'].round(0).astype(int)"
   ]
  },
  {
   "cell_type": "code",
   "execution_count": 58,
   "metadata": {
    "slideshow": {
     "slide_type": "skip"
    }
   },
   "outputs": [],
   "source": [
    "candyData['Gender'].describe()\n",
    "candyData['Gender'].isnull().sum()\n",
    "candyData['Gender'].unique()\n",
    "candyData['Gender'] = candyData['Gender'].replace(np.NaN,'I\\'d rather not say')\n",
    "candyData['Going_out'] = candyData['Going_out'].replace(np.NaN,'I\\'d rather not say')"
   ]
  },
  {
   "cell_type": "markdown",
   "metadata": {
    "slideshow": {
     "slide_type": "slide"
    }
   },
   "source": [
    "# Cleaning Country\n",
    "* This survey was avaliable Worldwide \n",
    "* Many different participants from around the World\n",
    "* We are only interested in USA and Canada data\n",
    "* Data from other country will be droped\n",
    "* Structural Errors\n",
    "    * Inconsistent capitalization and Typos\n",
    "    * Many different entries for USA\n",
    "       * few examples are (U.S.A, usa, US of A, America, etc.)"
   ]
  },
  {
   "cell_type": "code",
   "execution_count": 59,
   "metadata": {
    "slideshow": {
     "slide_type": "skip"
    }
   },
   "outputs": [
    {
     "data": {
      "text/plain": [
       "array([nan, 'USA ', 'USA', 'us', 'usa', 'canada', 'Canada', 'Us', 'US',\n",
       "       'Murica', 'United States', 'uk', 'United Kingdom', 'united states',\n",
       "       'Usa', 'United States ', 'United staes',\n",
       "       'United States of America', 'UAE', 'England', 'UK', 'canada ',\n",
       "       'Mexico', 'United states', 'u.s.a.', 'USAUSAUSA', 'america', '35',\n",
       "       'france', 'United States of America ', 'U.S.A.', 'finland',\n",
       "       'unhinged states', 'Canada ', 'united states of america',\n",
       "       'US of A', 'Unites States', 'The United States', 'North Carolina ',\n",
       "       'Unied States', 'Netherlands', 'germany', 'Europe', 'Earth', 'U S',\n",
       "       'u.s.', 'U.K. ', 'Costa Rica', 'The United States of America',\n",
       "       'unite states', 'U.S.', '46', 'cascadia', 'Australia',\n",
       "       'insanity lately', 'Greece', 'USA? Hard to tell anymore..',\n",
       "       \"'merica\", 'usas', 'Pittsburgh', '45', 'United State', '32',\n",
       "       'France', 'australia', 'A', 'Can', 'Canae', 'New York',\n",
       "       'Trumpistan', 'Ireland', 'United Sates', 'Korea', 'California',\n",
       "       'Japan', 'USa', 'South africa',\n",
       "       'I pretend to be from Canada, but I am really from the United States.',\n",
       "       'Usa ', 'Uk', 'Iceland', 'Germany', 'Canada`', 'Scotland', 'UK ',\n",
       "       'Denmark', 'United Stated', 'France ', 'Switzerland',\n",
       "       'Ahem....Amerca', 'UD', 'Scotland ', 'South Korea', 'New Jersey',\n",
       "       'CANADA', 'Indonesia', 'United ststes', 'America',\n",
       "       'The Netherlands', 'United Statss', 'endland', 'Atlantis',\n",
       "       'murrika', 'USA! USA! USA!', 'USAA', 'Alaska', 'united States ',\n",
       "       'soviet canuckistan', 'N. America', 'Singapore', 'USSA', 'China',\n",
       "       'Taiwan', 'Ireland ', 'hong kong', 'spain', 'Sweden', 'Hong Kong',\n",
       "       'U.S. ', 'Narnia', 'u s a', 'United Statea', 'united ststes', '1',\n",
       "       'subscribe to dm4uz3 on youtube', 'United kingdom',\n",
       "       'USA USA USA!!!!', \"I don't know anymore\", 'Fear and Loathing'],\n",
       "      dtype=object)"
      ]
     },
     "execution_count": 59,
     "metadata": {},
     "output_type": "execute_result"
    }
   ],
   "source": [
    "df_country=candyData['Q4: COUNTRY']\n",
    "\n",
    "unique_country=candyData['Q4: COUNTRY'].unique()\n",
    "\n",
    "unique_country"
   ]
  },
  {
   "cell_type": "code",
   "execution_count": 60,
   "metadata": {
    "slideshow": {
     "slide_type": "skip"
    }
   },
   "outputs": [],
   "source": [
    "candyData['Q4: COUNTRY']=candyData['Q4: COUNTRY'].str.lower()\n",
    "usa={'usa', 'murica', 'us', 'united states','america', 'u.s','u s','u.s.', 'u s a', 'unite states', 'united state'}\n",
    "canadas={'canada', 'can'}\n",
    "for element in candyData['Q4: COUNTRY']:\n",
    "    if type(element) is not float:\n",
    "        for u in usa:\n",
    "            if u in element:\n",
    "                candyData['Q4: COUNTRY'] = candyData['Q4: COUNTRY'].replace(element,'USA')\n",
    "        for c in canadas:\n",
    "            if c in element:\n",
    "                candyData['Q4: COUNTRY'] = candyData['Q4: COUNTRY'].replace(element,'Canada')\n",
    "    \n",
    "for element in candyData['Q4: COUNTRY']:\n",
    "    if type(element) is not float:\n",
    "        if 'USA' not in element and 'Canada' not in element:\n",
    "            candyData['Q4: COUNTRY'] = candyData['Q4: COUNTRY'].replace(element,np.NaN)\n",
    "            \n",
    "candyData = candyData[pd.notnull(candyData['Q4: COUNTRY'])]"
   ]
  },
  {
   "cell_type": "markdown",
   "metadata": {
    "slideshow": {
     "slide_type": "slide"
    }
   },
   "source": [
    "# Cleaning State, Province and County\n",
    "* Inconsistency with many of the data \n",
    "* People entering City or County\n",
    "* We want to narrow it down to States \n",
    "* Many entering both the abbreviation and full State name \n",
    "* We will create key value pair for every state and city in the USA \n",
    "* Replace all inconsistent entry with correct abbriviation by searchng the dictionary "
   ]
  },
  {
   "cell_type": "code",
   "execution_count": 61,
   "metadata": {
    "slideshow": {
     "slide_type": "skip"
    }
   },
   "outputs": [],
   "source": [
    "state_dic = {'Alabama':'AL', 'Alaska':'AK', 'Arizona':'AZ', 'Arkansas':'AR', 'California':'CA', 'Colorado':'CO', \n",
    "             'Connecticut':'CT', 'Delaware':'DE', 'Florida':'FL', 'Georgia':'GA', 'Hawaii':'HI', 'Idaho':'ID', \n",
    "             'Illinois':'IL', 'Indiana':'IN', 'Iowa':'IA', 'Kansas':'KS', 'Kentucky':'KY', 'Louisiana':'LA', \n",
    "             'Maine':'ME', 'Maryland':'MD', 'Massachusetts':'MA', 'Michigan':'MI', 'Minnesota':'MN', 'Mississippi':'MS', \n",
    "             'Missouri':'MO', 'Montana':'MT', 'Nebraska':'NE', 'Nevada':'NV', 'NewHampshire':'NH', 'NewJersey':'NJ', \n",
    "             'NewMexico':'NM', 'NewYork':'NY', 'NorthCarolina':'NC', 'NorthDakota':'ND', 'Ohio':'OH', 'Oklahoma':'OK', \n",
    "             'Oregon':'OR', 'Pennsylvania':'PA', 'RhodeIsland':'RI', 'SouthCarolina':'SC', 'SouthDakota':'SD', \n",
    "             'Tennessee':'TN', 'Texas':'TX', 'Utah':'UT', 'Vermont':'VT', 'Virginia':'VA', 'Washington':'WA', \n",
    "             'WestVirginia':'WV', 'Wisconsin':'WI', 'Wyoming':'WY', 'AmericanSamoa':'AS', 'DistrictofColumbia':'DC', \n",
    "             'FederatedStatesofMicronesia':'FM', 'Guam':'GU', 'MarshallIslands':'MH', 'NorthernMarianaIslands':'MP', \n",
    "             'Palau':'PW', 'PuertoRico':'PR', 'VirginIslands':'VI'}"
   ]
  },
  {
   "cell_type": "code",
   "execution_count": 64,
   "metadata": {
    "slideshow": {
     "slide_type": "skip"
    }
   },
   "outputs": [],
   "source": [
    "for element in candyData['Q5: STATE, PROVINCE, COUNTY, ETC']:\n",
    "    if type(element) is not float:\n",
    "        candyData['Q5: STATE, PROVINCE, COUNTY, ETC'] = candyData['Q5: STATE, PROVINCE, COUNTY, ETC'].replace(element, element.upper().strip())\n",
    "        for key in state_dic:\n",
    "            if key.upper() in element.replace(' ',''):\n",
    "                candyData['Q5: STATE, PROVINCE, COUNTY, ETC'] = candyData['Q5: STATE, PROVINCE, COUNTY, ETC'].replace(element,state_dic[key])\n",
    "            if element[:2] == state_dic[key] or element[-2:] == state_dic[key]:\n",
    "                candyData['Q5: STATE, PROVINCE, COUNTY, ETC'] = candyData['Q5: STATE, PROVINCE, COUNTY, ETC'].replace(element,state_dic[key])"
   ]
  },
  {
   "cell_type": "code",
   "execution_count": 65,
   "metadata": {
    "scrolled": false,
    "slideshow": {
     "slide_type": "skip"
    }
   },
   "outputs": [
    {
     "data": {
      "text/plain": [
       "Internal ID\n",
       "90272821    NM\n",
       "90272829    IA\n",
       "90272840    OR\n",
       "90272841    PA\n",
       "90272853    CO\n",
       "            ..\n",
       "90314359    MD\n",
       "90314580    NE\n",
       "90314634    TN\n",
       "90314658    NC\n",
       "90314802    IA\n",
       "Name: Q5: STATE, PROVINCE, COUNTY, ETC, Length: 2263, dtype: object"
      ]
     },
     "execution_count": 65,
     "metadata": {},
     "output_type": "execute_result"
    }
   ],
   "source": [
    "candyData['Q5: STATE, PROVINCE, COUNTY, ETC']"
   ]
  },
  {
   "cell_type": "code",
   "execution_count": 66,
   "metadata": {
    "slideshow": {
     "slide_type": "skip"
    }
   },
   "outputs": [],
   "source": [
    "ca_state_dic = {'Ontario':'ON', 'Quebec':'QC', 'NovaScotia':'NS', 'New Brunswick':'NB',\n",
    "                'Manitoba':'MB', 'BritishColumbia':'BC', 'PrinceEdward':'PE', 'Saskatchewan':'SK',\n",
    "                'Alberta':'AB', 'NewfoundlandAndLabrador':'NL', 'NorthwestTerritories':'NT',\n",
    "                'Yukon':'YT', 'Nunavut':'NU'}\n",
    "for element in candyData['Q5: STATE, PROVINCE, COUNTY, ETC']:\n",
    "    if type(element) is not float:\n",
    "        candyData['Q5: STATE, PROVINCE, COUNTY, ETC'] = candyData['Q5: STATE, PROVINCE, COUNTY, ETC'].replace(element, element.upper().strip())\n",
    "        for key in ca_state_dic:\n",
    "            if key.upper() in element.replace(' ',''):\n",
    "                candyData['Q5: STATE, PROVINCE, COUNTY, ETC'] = candyData['Q5: STATE, PROVINCE, COUNTY, ETC'].replace(element,ca_state_dic[key])"
   ]
  },
  {
   "cell_type": "code",
   "execution_count": 67,
   "metadata": {
    "slideshow": {
     "slide_type": "skip"
    }
   },
   "outputs": [],
   "source": [
    "for element in candyData['Q5: STATE, PROVINCE, COUNTY, ETC']:\n",
    "    if element not in state_dic.values() and element not in ca_state_dic.values():\n",
    "        candyData['Q5: STATE, PROVINCE, COUNTY, ETC'] = candyData['Q5: STATE, PROVINCE, COUNTY, ETC'].replace(element,np.NaN)"
   ]
  },
  {
   "cell_type": "markdown",
   "metadata": {
    "slideshow": {
     "slide_type": "skip"
    }
   },
   "source": [
    "# Replace NA values for Country and State with \"I'd rather not say\""
   ]
  },
  {
   "cell_type": "code",
   "execution_count": 68,
   "metadata": {
    "slideshow": {
     "slide_type": "skip"
    }
   },
   "outputs": [],
   "source": [
    "candyData['Q4: COUNTRY'] = candyData['Q4: COUNTRY'].replace(np.NaN,'I\\'d rather not say')"
   ]
  },
  {
   "cell_type": "code",
   "execution_count": 69,
   "metadata": {
    "slideshow": {
     "slide_type": "skip"
    }
   },
   "outputs": [],
   "source": [
    "candyData['Q5: STATE, PROVINCE, COUNTY, ETC'] = candyData['Q5: STATE, PROVINCE, COUNTY, ETC'].replace(np.NaN,'I\\'d rather not say')"
   ]
  },
  {
   "cell_type": "code",
   "execution_count": 70,
   "metadata": {
    "slideshow": {
     "slide_type": "slide"
    }
   },
   "outputs": [
    {
     "data": {
      "text/html": [
       "<div>\n",
       "<style scoped>\n",
       "    .dataframe tbody tr th:only-of-type {\n",
       "        vertical-align: middle;\n",
       "    }\n",
       "\n",
       "    .dataframe tbody tr th {\n",
       "        vertical-align: top;\n",
       "    }\n",
       "\n",
       "    .dataframe thead th {\n",
       "        text-align: right;\n",
       "    }\n",
       "</style>\n",
       "<table border=\"1\" class=\"dataframe\">\n",
       "  <thead>\n",
       "    <tr style=\"text-align: right;\">\n",
       "      <th></th>\n",
       "      <th>Going_out</th>\n",
       "      <th>Gender</th>\n",
       "      <th>Age</th>\n",
       "      <th>Q4: COUNTRY</th>\n",
       "      <th>Q5: STATE, PROVINCE, COUNTY, ETC</th>\n",
       "      <th>Q6 | 100 Grand Bar</th>\n",
       "      <th>Q6 | Anonymous brown globs that come in black and orange wrappers\t(a.k.a. Mary Janes)</th>\n",
       "      <th>Q6 | Any full-sized candy bar</th>\n",
       "      <th>Q6 | Black Jacks</th>\n",
       "      <th>Q6 | Bonkers (the candy)</th>\n",
       "      <th>Q6 | Bonkers (the board game)</th>\n",
       "      <th>Q6 | Bottle Caps</th>\n",
       "      <th>Q6 | Box'o'Raisins</th>\n",
       "      <th>Q6 | Broken glow stick</th>\n",
       "      <th>Q6 | Butterfinger</th>\n",
       "      <th>Q6 | Cadbury Creme Eggs</th>\n",
       "      <th>Q6 | Candy Corn</th>\n",
       "      <th>Q6 | Candy that is clearly just the stuff given out for free at restaurants</th>\n",
       "      <th>Q6 | Caramellos</th>\n",
       "      <th>Q6 | Cash, or other forms of legal tender</th>\n",
       "      <th>Q6 | Chardonnay</th>\n",
       "      <th>Q6 | Chick-o-Sticks (we donÕt know what that is)</th>\n",
       "      <th>Q6 | Chiclets</th>\n",
       "      <th>Q6 | Coffee Crisp</th>\n",
       "      <th>Q6 | Creepy Religious comics/Chick Tracts</th>\n",
       "      <th>...</th>\n",
       "      <th>Q6 | Sweetums (a friend to diabetes)</th>\n",
       "      <th>Q6 | Take 5</th>\n",
       "      <th>Q6 | Tic Tacs</th>\n",
       "      <th>Q6 | Those odd marshmallow circus peanut things</th>\n",
       "      <th>Q6 | Three Musketeers</th>\n",
       "      <th>Q6 | Tolberone something or other</th>\n",
       "      <th>Q6 | Trail Mix</th>\n",
       "      <th>Q6 | Twix</th>\n",
       "      <th>Q6 | Vials of pure high fructose corn syrup, for main-lining into your vein</th>\n",
       "      <th>Q6 | Vicodin</th>\n",
       "      <th>Q6 | Whatchamacallit Bars</th>\n",
       "      <th>Q6 | White Bread</th>\n",
       "      <th>Q6 | Whole Wheat anything</th>\n",
       "      <th>Q6 | York Peppermint Patties</th>\n",
       "      <th>Q7: JOY OTHER</th>\n",
       "      <th>Q8: DESPAIR OTHER</th>\n",
       "      <th>Q9: OTHER COMMENTS</th>\n",
       "      <th>Q10: DRESS</th>\n",
       "      <th>Unnamed: 113</th>\n",
       "      <th>Q11: DAY</th>\n",
       "      <th>Q12: MEDIA [Daily Dish]</th>\n",
       "      <th>Q12: MEDIA [Science]</th>\n",
       "      <th>Q12: MEDIA [ESPN]</th>\n",
       "      <th>Q12: MEDIA [Yahoo]</th>\n",
       "      <th>Click Coordinates (x, y)</th>\n",
       "    </tr>\n",
       "    <tr>\n",
       "      <th>Internal ID</th>\n",
       "      <th></th>\n",
       "      <th></th>\n",
       "      <th></th>\n",
       "      <th></th>\n",
       "      <th></th>\n",
       "      <th></th>\n",
       "      <th></th>\n",
       "      <th></th>\n",
       "      <th></th>\n",
       "      <th></th>\n",
       "      <th></th>\n",
       "      <th></th>\n",
       "      <th></th>\n",
       "      <th></th>\n",
       "      <th></th>\n",
       "      <th></th>\n",
       "      <th></th>\n",
       "      <th></th>\n",
       "      <th></th>\n",
       "      <th></th>\n",
       "      <th></th>\n",
       "      <th></th>\n",
       "      <th></th>\n",
       "      <th></th>\n",
       "      <th></th>\n",
       "      <th></th>\n",
       "      <th></th>\n",
       "      <th></th>\n",
       "      <th></th>\n",
       "      <th></th>\n",
       "      <th></th>\n",
       "      <th></th>\n",
       "      <th></th>\n",
       "      <th></th>\n",
       "      <th></th>\n",
       "      <th></th>\n",
       "      <th></th>\n",
       "      <th></th>\n",
       "      <th></th>\n",
       "      <th></th>\n",
       "      <th></th>\n",
       "      <th></th>\n",
       "      <th></th>\n",
       "      <th></th>\n",
       "      <th></th>\n",
       "      <th></th>\n",
       "      <th></th>\n",
       "      <th></th>\n",
       "      <th></th>\n",
       "      <th></th>\n",
       "      <th></th>\n",
       "    </tr>\n",
       "  </thead>\n",
       "  <tbody>\n",
       "    <tr>\n",
       "      <th>90276236</th>\n",
       "      <td>Yes</td>\n",
       "      <td>Male</td>\n",
       "      <td>13</td>\n",
       "      <td>USA</td>\n",
       "      <td>CA</td>\n",
       "      <td>MEH</td>\n",
       "      <td>DESPAIR</td>\n",
       "      <td>JOY</td>\n",
       "      <td>DESPAIR</td>\n",
       "      <td>DESPAIR</td>\n",
       "      <td>MEH</td>\n",
       "      <td>DESPAIR</td>\n",
       "      <td>DESPAIR</td>\n",
       "      <td>DESPAIR</td>\n",
       "      <td>MEH</td>\n",
       "      <td>JOY</td>\n",
       "      <td>DESPAIR</td>\n",
       "      <td>DESPAIR</td>\n",
       "      <td>JOY</td>\n",
       "      <td>JOY</td>\n",
       "      <td>DESPAIR</td>\n",
       "      <td>DESPAIR</td>\n",
       "      <td>DESPAIR</td>\n",
       "      <td>JOY</td>\n",
       "      <td>DESPAIR</td>\n",
       "      <td>...</td>\n",
       "      <td>DESPAIR</td>\n",
       "      <td>MEH</td>\n",
       "      <td>DESPAIR</td>\n",
       "      <td>DESPAIR</td>\n",
       "      <td>MEH</td>\n",
       "      <td>JOY</td>\n",
       "      <td>DESPAIR</td>\n",
       "      <td>JOY</td>\n",
       "      <td>DESPAIR</td>\n",
       "      <td>DESPAIR</td>\n",
       "      <td>DESPAIR</td>\n",
       "      <td>DESPAIR</td>\n",
       "      <td>DESPAIR</td>\n",
       "      <td>JOY</td>\n",
       "      <td>NaN</td>\n",
       "      <td>NaN</td>\n",
       "      <td>NaN</td>\n",
       "      <td>White and gold</td>\n",
       "      <td>NaN</td>\n",
       "      <td>Friday</td>\n",
       "      <td>1.0</td>\n",
       "      <td>NaN</td>\n",
       "      <td>NaN</td>\n",
       "      <td>NaN</td>\n",
       "      <td>(47, 31)</td>\n",
       "    </tr>\n",
       "    <tr>\n",
       "      <th>90281101</th>\n",
       "      <td>No</td>\n",
       "      <td>Female</td>\n",
       "      <td>42</td>\n",
       "      <td>Canada</td>\n",
       "      <td>AL</td>\n",
       "      <td>MEH</td>\n",
       "      <td>DESPAIR</td>\n",
       "      <td>JOY</td>\n",
       "      <td>MEH</td>\n",
       "      <td>MEH</td>\n",
       "      <td>MEH</td>\n",
       "      <td>MEH</td>\n",
       "      <td>DESPAIR</td>\n",
       "      <td>DESPAIR</td>\n",
       "      <td>JOY</td>\n",
       "      <td>JOY</td>\n",
       "      <td>DESPAIR</td>\n",
       "      <td>DESPAIR</td>\n",
       "      <td>JOY</td>\n",
       "      <td>JOY</td>\n",
       "      <td>JOY</td>\n",
       "      <td>MEH</td>\n",
       "      <td>MEH</td>\n",
       "      <td>JOY</td>\n",
       "      <td>DESPAIR</td>\n",
       "      <td>...</td>\n",
       "      <td>MEH</td>\n",
       "      <td>MEH</td>\n",
       "      <td>MEH</td>\n",
       "      <td>DESPAIR</td>\n",
       "      <td>JOY</td>\n",
       "      <td>JOY</td>\n",
       "      <td>MEH</td>\n",
       "      <td>JOY</td>\n",
       "      <td>DESPAIR</td>\n",
       "      <td>JOY</td>\n",
       "      <td>JOY</td>\n",
       "      <td>DESPAIR</td>\n",
       "      <td>DESPAIR</td>\n",
       "      <td>JOY</td>\n",
       "      <td>NaN</td>\n",
       "      <td>NaN</td>\n",
       "      <td>NaN</td>\n",
       "      <td>Blue and black</td>\n",
       "      <td>NaN</td>\n",
       "      <td>Sunday</td>\n",
       "      <td>NaN</td>\n",
       "      <td>1.0</td>\n",
       "      <td>NaN</td>\n",
       "      <td>NaN</td>\n",
       "      <td>(71, 45)</td>\n",
       "    </tr>\n",
       "    <tr>\n",
       "      <th>90287147</th>\n",
       "      <td>No</td>\n",
       "      <td>Male</td>\n",
       "      <td>55</td>\n",
       "      <td>USA</td>\n",
       "      <td>OH</td>\n",
       "      <td>MEH</td>\n",
       "      <td>DESPAIR</td>\n",
       "      <td>JOY</td>\n",
       "      <td>DESPAIR</td>\n",
       "      <td>MEH</td>\n",
       "      <td>MEH</td>\n",
       "      <td>JOY</td>\n",
       "      <td>MEH</td>\n",
       "      <td>DESPAIR</td>\n",
       "      <td>JOY</td>\n",
       "      <td>MEH</td>\n",
       "      <td>MEH</td>\n",
       "      <td>DESPAIR</td>\n",
       "      <td>DESPAIR</td>\n",
       "      <td>JOY</td>\n",
       "      <td>JOY</td>\n",
       "      <td>MEH</td>\n",
       "      <td>MEH</td>\n",
       "      <td>MEH</td>\n",
       "      <td>DESPAIR</td>\n",
       "      <td>...</td>\n",
       "      <td>MEH</td>\n",
       "      <td>MEH</td>\n",
       "      <td>MEH</td>\n",
       "      <td>JOY</td>\n",
       "      <td>MEH</td>\n",
       "      <td>DESPAIR</td>\n",
       "      <td>DESPAIR</td>\n",
       "      <td>DESPAIR</td>\n",
       "      <td>MEH</td>\n",
       "      <td>JOY</td>\n",
       "      <td>MEH</td>\n",
       "      <td>DESPAIR</td>\n",
       "      <td>DESPAIR</td>\n",
       "      <td>MEH</td>\n",
       "      <td>Buckeyes Maple syrup candy</td>\n",
       "      <td>Hard root beer candies shaped like a beer barrel</td>\n",
       "      <td>BTW - \"Those odd marshmallow circus peanut thi...</td>\n",
       "      <td>NaN</td>\n",
       "      <td>NaN</td>\n",
       "      <td>Sunday</td>\n",
       "      <td>NaN</td>\n",
       "      <td>1.0</td>\n",
       "      <td>NaN</td>\n",
       "      <td>NaN</td>\n",
       "      <td>(74, 6)</td>\n",
       "    </tr>\n",
       "    <tr>\n",
       "      <th>90277018</th>\n",
       "      <td>No</td>\n",
       "      <td>Female</td>\n",
       "      <td>53</td>\n",
       "      <td>USA</td>\n",
       "      <td>TX</td>\n",
       "      <td>MEH</td>\n",
       "      <td>MEH</td>\n",
       "      <td>JOY</td>\n",
       "      <td>MEH</td>\n",
       "      <td>JOY</td>\n",
       "      <td>JOY</td>\n",
       "      <td>MEH</td>\n",
       "      <td>DESPAIR</td>\n",
       "      <td>DESPAIR</td>\n",
       "      <td>JOY</td>\n",
       "      <td>JOY</td>\n",
       "      <td>DESPAIR</td>\n",
       "      <td>MEH</td>\n",
       "      <td>MEH</td>\n",
       "      <td>JOY</td>\n",
       "      <td>JOY</td>\n",
       "      <td>JOY</td>\n",
       "      <td>JOY</td>\n",
       "      <td>DESPAIR</td>\n",
       "      <td>DESPAIR</td>\n",
       "      <td>...</td>\n",
       "      <td>JOY</td>\n",
       "      <td>MEH</td>\n",
       "      <td>MEH</td>\n",
       "      <td>MEH</td>\n",
       "      <td>JOY</td>\n",
       "      <td>JOY</td>\n",
       "      <td>MEH</td>\n",
       "      <td>JOY</td>\n",
       "      <td>DESPAIR</td>\n",
       "      <td>JOY</td>\n",
       "      <td>JOY</td>\n",
       "      <td>MEH</td>\n",
       "      <td>JOY</td>\n",
       "      <td>MEH</td>\n",
       "      <td>NaN</td>\n",
       "      <td>NaN</td>\n",
       "      <td>NaN</td>\n",
       "      <td>Blue and black</td>\n",
       "      <td>NaN</td>\n",
       "      <td>Friday</td>\n",
       "      <td>NaN</td>\n",
       "      <td>1.0</td>\n",
       "      <td>NaN</td>\n",
       "      <td>NaN</td>\n",
       "      <td>(74, 27)</td>\n",
       "    </tr>\n",
       "    <tr>\n",
       "      <th>90277817</th>\n",
       "      <td>No</td>\n",
       "      <td>Female</td>\n",
       "      <td>42</td>\n",
       "      <td>USA</td>\n",
       "      <td>MA</td>\n",
       "      <td>MEH</td>\n",
       "      <td>DESPAIR</td>\n",
       "      <td>JOY</td>\n",
       "      <td>NaN</td>\n",
       "      <td>MEH</td>\n",
       "      <td>MEH</td>\n",
       "      <td>MEH</td>\n",
       "      <td>DESPAIR</td>\n",
       "      <td>DESPAIR</td>\n",
       "      <td>JOY</td>\n",
       "      <td>MEH</td>\n",
       "      <td>MEH</td>\n",
       "      <td>DESPAIR</td>\n",
       "      <td>MEH</td>\n",
       "      <td>MEH</td>\n",
       "      <td>JOY</td>\n",
       "      <td>NaN</td>\n",
       "      <td>MEH</td>\n",
       "      <td>MEH</td>\n",
       "      <td>DESPAIR</td>\n",
       "      <td>...</td>\n",
       "      <td>MEH</td>\n",
       "      <td>JOY</td>\n",
       "      <td>DESPAIR</td>\n",
       "      <td>DESPAIR</td>\n",
       "      <td>MEH</td>\n",
       "      <td>JOY</td>\n",
       "      <td>DESPAIR</td>\n",
       "      <td>JOY</td>\n",
       "      <td>MEH</td>\n",
       "      <td>JOY</td>\n",
       "      <td>JOY</td>\n",
       "      <td>DESPAIR</td>\n",
       "      <td>DESPAIR</td>\n",
       "      <td>MEH</td>\n",
       "      <td>Reese's big cups</td>\n",
       "      <td>white chocolate anything</td>\n",
       "      <td>NaN</td>\n",
       "      <td>White and gold</td>\n",
       "      <td>NaN</td>\n",
       "      <td>Sunday</td>\n",
       "      <td>NaN</td>\n",
       "      <td>1.0</td>\n",
       "      <td>NaN</td>\n",
       "      <td>NaN</td>\n",
       "      <td>(84, 32)</td>\n",
       "    </tr>\n",
       "  </tbody>\n",
       "</table>\n",
       "<p>5 rows × 119 columns</p>\n",
       "</div>"
      ],
      "text/plain": [
       "            Going_out  Gender  Age Q4: COUNTRY  \\\n",
       "Internal ID                                      \n",
       "90276236          Yes    Male   13         USA   \n",
       "90281101           No  Female   42      Canada   \n",
       "90287147           No    Male   55         USA   \n",
       "90277018           No  Female   53         USA   \n",
       "90277817           No  Female   42         USA   \n",
       "\n",
       "            Q5: STATE, PROVINCE, COUNTY, ETC Q6 | 100 Grand Bar  \\\n",
       "Internal ID                                                       \n",
       "90276236                                  CA                MEH   \n",
       "90281101                                  AL                MEH   \n",
       "90287147                                  OH                MEH   \n",
       "90277018                                  TX                MEH   \n",
       "90277817                                  MA                MEH   \n",
       "\n",
       "            Q6 | Anonymous brown globs that come in black and orange wrappers\\t(a.k.a. Mary Janes)  \\\n",
       "Internal ID                                                                                          \n",
       "90276236                                               DESPAIR                                       \n",
       "90281101                                               DESPAIR                                       \n",
       "90287147                                               DESPAIR                                       \n",
       "90277018                                                   MEH                                       \n",
       "90277817                                               DESPAIR                                       \n",
       "\n",
       "            Q6 | Any full-sized candy bar Q6 | Black Jacks  \\\n",
       "Internal ID                                                  \n",
       "90276236                              JOY          DESPAIR   \n",
       "90281101                              JOY              MEH   \n",
       "90287147                              JOY          DESPAIR   \n",
       "90277018                              JOY              MEH   \n",
       "90277817                              JOY              NaN   \n",
       "\n",
       "            Q6 | Bonkers (the candy) Q6 | Bonkers (the board game)  \\\n",
       "Internal ID                                                          \n",
       "90276236                     DESPAIR                           MEH   \n",
       "90281101                         MEH                           MEH   \n",
       "90287147                         MEH                           MEH   \n",
       "90277018                         JOY                           JOY   \n",
       "90277817                         MEH                           MEH   \n",
       "\n",
       "            Q6 | Bottle Caps Q6 | Box'o'Raisins Q6 | Broken glow stick  \\\n",
       "Internal ID                                                              \n",
       "90276236             DESPAIR            DESPAIR                DESPAIR   \n",
       "90281101                 MEH            DESPAIR                DESPAIR   \n",
       "90287147                 JOY                MEH                DESPAIR   \n",
       "90277018                 MEH            DESPAIR                DESPAIR   \n",
       "90277817                 MEH            DESPAIR                DESPAIR   \n",
       "\n",
       "            Q6 | Butterfinger Q6 | Cadbury Creme Eggs Q6 | Candy Corn  \\\n",
       "Internal ID                                                             \n",
       "90276236                  MEH                     JOY         DESPAIR   \n",
       "90281101                  JOY                     JOY         DESPAIR   \n",
       "90287147                  JOY                     MEH             MEH   \n",
       "90277018                  JOY                     JOY         DESPAIR   \n",
       "90277817                  JOY                     MEH             MEH   \n",
       "\n",
       "            Q6 | Candy that is clearly just the stuff given out for free at restaurants  \\\n",
       "Internal ID                                                                               \n",
       "90276236                                               DESPAIR                            \n",
       "90281101                                               DESPAIR                            \n",
       "90287147                                               DESPAIR                            \n",
       "90277018                                                   MEH                            \n",
       "90277817                                               DESPAIR                            \n",
       "\n",
       "            Q6 | Caramellos Q6 | Cash, or other forms of legal tender  \\\n",
       "Internal ID                                                             \n",
       "90276236                JOY                                       JOY   \n",
       "90281101                JOY                                       JOY   \n",
       "90287147            DESPAIR                                       JOY   \n",
       "90277018                MEH                                       JOY   \n",
       "90277817                MEH                                       MEH   \n",
       "\n",
       "            Q6 | Chardonnay Q6 | Chick-o-Sticks (we donÕt know what that is)  \\\n",
       "Internal ID                                                                    \n",
       "90276236            DESPAIR                                          DESPAIR   \n",
       "90281101                JOY                                              MEH   \n",
       "90287147                JOY                                              MEH   \n",
       "90277018                JOY                                              JOY   \n",
       "90277817                JOY                                              NaN   \n",
       "\n",
       "            Q6 | Chiclets Q6 | Coffee Crisp  \\\n",
       "Internal ID                                   \n",
       "90276236          DESPAIR               JOY   \n",
       "90281101              MEH               JOY   \n",
       "90287147              MEH               MEH   \n",
       "90277018              JOY           DESPAIR   \n",
       "90277817              MEH               MEH   \n",
       "\n",
       "            Q6 | Creepy Religious comics/Chick Tracts  \\\n",
       "Internal ID                                             \n",
       "90276236                                      DESPAIR   \n",
       "90281101                                      DESPAIR   \n",
       "90287147                                      DESPAIR   \n",
       "90277018                                      DESPAIR   \n",
       "90277817                                      DESPAIR   \n",
       "\n",
       "                      ...            Q6 | Sweetums (a friend to diabetes)  \\\n",
       "Internal ID           ...                                                   \n",
       "90276236              ...                                         DESPAIR   \n",
       "90281101              ...                                             MEH   \n",
       "90287147              ...                                             MEH   \n",
       "90277018              ...                                             JOY   \n",
       "90277817              ...                                             MEH   \n",
       "\n",
       "            Q6 | Take 5 Q6 | Tic Tacs  \\\n",
       "Internal ID                             \n",
       "90276236            MEH       DESPAIR   \n",
       "90281101            MEH           MEH   \n",
       "90287147            MEH           MEH   \n",
       "90277018            MEH           MEH   \n",
       "90277817            JOY       DESPAIR   \n",
       "\n",
       "            Q6 | Those odd marshmallow circus peanut things  \\\n",
       "Internal ID                                                   \n",
       "90276236                                            DESPAIR   \n",
       "90281101                                            DESPAIR   \n",
       "90287147                                                JOY   \n",
       "90277018                                                MEH   \n",
       "90277817                                            DESPAIR   \n",
       "\n",
       "            Q6 | Three Musketeers Q6 | Tolberone something or other  \\\n",
       "Internal ID                                                           \n",
       "90276236                      MEH                               JOY   \n",
       "90281101                      JOY                               JOY   \n",
       "90287147                      MEH                           DESPAIR   \n",
       "90277018                      JOY                               JOY   \n",
       "90277817                      MEH                               JOY   \n",
       "\n",
       "            Q6 | Trail Mix Q6 | Twix  \\\n",
       "Internal ID                            \n",
       "90276236           DESPAIR       JOY   \n",
       "90281101               MEH       JOY   \n",
       "90287147           DESPAIR   DESPAIR   \n",
       "90277018               MEH       JOY   \n",
       "90277817           DESPAIR       JOY   \n",
       "\n",
       "            Q6 | Vials of pure high fructose corn syrup, for main-lining into your vein  \\\n",
       "Internal ID                                                                               \n",
       "90276236                                               DESPAIR                            \n",
       "90281101                                               DESPAIR                            \n",
       "90287147                                                   MEH                            \n",
       "90277018                                               DESPAIR                            \n",
       "90277817                                                   MEH                            \n",
       "\n",
       "            Q6 | Vicodin Q6 | Whatchamacallit Bars Q6 | White Bread  \\\n",
       "Internal ID                                                           \n",
       "90276236         DESPAIR                   DESPAIR          DESPAIR   \n",
       "90281101             JOY                       JOY          DESPAIR   \n",
       "90287147             JOY                       MEH          DESPAIR   \n",
       "90277018             JOY                       JOY              MEH   \n",
       "90277817             JOY                       JOY          DESPAIR   \n",
       "\n",
       "            Q6 | Whole Wheat anything Q6 | York Peppermint Patties  \\\n",
       "Internal ID                                                          \n",
       "90276236                      DESPAIR                          JOY   \n",
       "90281101                      DESPAIR                          JOY   \n",
       "90287147                      DESPAIR                          MEH   \n",
       "90277018                          JOY                          MEH   \n",
       "90277817                      DESPAIR                          MEH   \n",
       "\n",
       "                          Q7: JOY OTHER  \\\n",
       "Internal ID                               \n",
       "90276236                            NaN   \n",
       "90281101                            NaN   \n",
       "90287147     Buckeyes Maple syrup candy   \n",
       "90277018                            NaN   \n",
       "90277817               Reese's big cups   \n",
       "\n",
       "                                            Q8: DESPAIR OTHER  \\\n",
       "Internal ID                                                     \n",
       "90276236                                                  NaN   \n",
       "90281101                                                  NaN   \n",
       "90287147     Hard root beer candies shaped like a beer barrel   \n",
       "90277018                                                  NaN   \n",
       "90277817                            white chocolate anything    \n",
       "\n",
       "                                            Q9: OTHER COMMENTS  \\\n",
       "Internal ID                                                      \n",
       "90276236                                                   NaN   \n",
       "90281101                                                   NaN   \n",
       "90287147     BTW - \"Those odd marshmallow circus peanut thi...   \n",
       "90277018                                                   NaN   \n",
       "90277817                                                   NaN   \n",
       "\n",
       "                 Q10: DRESS Unnamed: 113 Q11: DAY Q12: MEDIA [Daily Dish]  \\\n",
       "Internal ID                                                                 \n",
       "90276236     White and gold          NaN   Friday                     1.0   \n",
       "90281101     Blue and black          NaN   Sunday                     NaN   \n",
       "90287147                NaN          NaN   Sunday                     NaN   \n",
       "90277018     Blue and black          NaN   Friday                     NaN   \n",
       "90277817     White and gold          NaN   Sunday                     NaN   \n",
       "\n",
       "            Q12: MEDIA [Science] Q12: MEDIA [ESPN] Q12: MEDIA [Yahoo]  \\\n",
       "Internal ID                                                             \n",
       "90276236                     NaN               NaN                NaN   \n",
       "90281101                     1.0               NaN                NaN   \n",
       "90287147                     1.0               NaN                NaN   \n",
       "90277018                     1.0               NaN                NaN   \n",
       "90277817                     1.0               NaN                NaN   \n",
       "\n",
       "            Click Coordinates (x, y)  \n",
       "Internal ID                           \n",
       "90276236                    (47, 31)  \n",
       "90281101                    (71, 45)  \n",
       "90287147                     (74, 6)  \n",
       "90277018                    (74, 27)  \n",
       "90277817                    (84, 32)  \n",
       "\n",
       "[5 rows x 119 columns]"
      ]
     },
     "execution_count": 70,
     "metadata": {},
     "output_type": "execute_result"
    }
   ],
   "source": [
    "candyData.sample(5)"
   ]
  },
  {
   "cell_type": "markdown",
   "metadata": {
    "slideshow": {
     "slide_type": "skip"
    }
   },
   "source": [
    "# Irrelevant observations\n",
    "\n",
    "* We will drop datas we don't need"
   ]
  },
  {
   "cell_type": "code",
   "execution_count": 71,
   "metadata": {
    "slideshow": {
     "slide_type": "skip"
    }
   },
   "outputs": [],
   "source": [
    "candyData.drop('Q7: JOY OTHER', axis=1, inplace=True)\n",
    "candyData.drop('Q8: DESPAIR OTHER', axis=1, inplace=True)\n",
    "candyData.drop('Q9: OTHER COMMENTS', axis=1, inplace=True)\n",
    "candyData.drop('Q10: DRESS', axis=1, inplace=True)\n",
    "candyData.drop('Unnamed: 113', axis=1, inplace=True)\n",
    "candyData.drop('Q11: DAY', axis=1, inplace=True)\n",
    "candyData.drop('Q12: MEDIA [Daily Dish]', axis=1, inplace=True)\n",
    "candyData.drop('Q12: MEDIA [Science]', axis=1, inplace=True)\n",
    "candyData.drop('Q12: MEDIA [ESPN]', axis=1, inplace=True)\n",
    "candyData.drop('Q12: MEDIA [Yahoo]', axis=1, inplace=True)\n",
    "candyData.drop('Click Coordinates (x, y)', axis=1, inplace=True)"
   ]
  },
  {
   "cell_type": "code",
   "execution_count": 72,
   "metadata": {
    "slideshow": {
     "slide_type": "skip"
    }
   },
   "outputs": [],
   "source": [
    "gender_count = candyData['Gender'].value_counts()\n",
    "gender_count\n",
    "gender_count_df = pd.DataFrame(data=gender_count)"
   ]
  },
  {
   "cell_type": "markdown",
   "metadata": {
    "slideshow": {
     "slide_type": "slide"
    }
   },
   "source": [
    "# Gender Distribution Plot"
   ]
  },
  {
   "cell_type": "code",
   "execution_count": 73,
   "metadata": {
    "slideshow": {
     "slide_type": "slide"
    }
   },
   "outputs": [
    {
     "data": {
      "text/html": [
       "<div>\n",
       "<style scoped>\n",
       "    .dataframe tbody tr th:only-of-type {\n",
       "        vertical-align: middle;\n",
       "    }\n",
       "\n",
       "    .dataframe tbody tr th {\n",
       "        vertical-align: top;\n",
       "    }\n",
       "\n",
       "    .dataframe thead th {\n",
       "        text-align: right;\n",
       "    }\n",
       "</style>\n",
       "<table border=\"1\" class=\"dataframe\">\n",
       "  <thead>\n",
       "    <tr style=\"text-align: right;\">\n",
       "      <th></th>\n",
       "      <th>Gender</th>\n",
       "    </tr>\n",
       "  </thead>\n",
       "  <tbody>\n",
       "    <tr>\n",
       "      <th>Male</th>\n",
       "      <td>1372</td>\n",
       "    </tr>\n",
       "    <tr>\n",
       "      <th>Female</th>\n",
       "      <td>793</td>\n",
       "    </tr>\n",
       "    <tr>\n",
       "      <th>I'd rather not say</th>\n",
       "      <td>71</td>\n",
       "    </tr>\n",
       "    <tr>\n",
       "      <th>Other</th>\n",
       "      <td>27</td>\n",
       "    </tr>\n",
       "  </tbody>\n",
       "</table>\n",
       "</div>"
      ],
      "text/plain": [
       "                    Gender\n",
       "Male                  1372\n",
       "Female                 793\n",
       "I'd rather not say      71\n",
       "Other                   27"
      ]
     },
     "execution_count": 73,
     "metadata": {},
     "output_type": "execute_result"
    }
   ],
   "source": [
    "gender_count_df"
   ]
  },
  {
   "cell_type": "code",
   "execution_count": 74,
   "metadata": {
    "slideshow": {
     "slide_type": "slide"
    }
   },
   "outputs": [
    {
     "data": {
      "text/plain": [
       "array([<matplotlib.axes._subplots.AxesSubplot object at 0x1a1caec978>],\n",
       "      dtype=object)"
      ]
     },
     "execution_count": 74,
     "metadata": {},
     "output_type": "execute_result"
    },
    {
     "data": {
      "image/png": "[encoded data removed]",
      "text/plain": [
       "<Figure size 720x720 with 1 Axes>"
      ]
     },
     "metadata": {},
     "output_type": "display_data"
    }
   ],
   "source": [
    "matplotlib.rcParams['figure.figsize'] = 10, 10\n",
    "gender_count_df.plot.pie(subplots=True,title='Gender Distribution')"
   ]
  },
  {
   "cell_type": "code",
   "execution_count": 25,
   "metadata": {
    "slideshow": {
     "slide_type": "skip"
    }
   },
   "outputs": [],
   "source": [
    "candyRank = candyData.drop(candyData.columns[0:5], axis=1, inplace=False)\n",
    "candyRank.replace('JOY', 3, inplace=True)\n",
    "candyRank.replace('MEH',1, inplace=True)\n",
    "candyRank.replace('DESPAIR',0, inplace=True)"
   ]
  },
  {
   "cell_type": "markdown",
   "metadata": {
    "slideshow": {
     "slide_type": "slide"
    }
   },
   "source": [
    "# Candy scores and ranking for USA and Canada"
   ]
  },
  {
   "cell_type": "code",
   "execution_count": 26,
   "metadata": {
    "slideshow": {
     "slide_type": "slide"
    }
   },
   "outputs": [
    {
     "data": {
      "text/html": [
       "<div>\n",
       "<style scoped>\n",
       "    .dataframe tbody tr th:only-of-type {\n",
       "        vertical-align: middle;\n",
       "    }\n",
       "\n",
       "    .dataframe tbody tr th {\n",
       "        vertical-align: top;\n",
       "    }\n",
       "\n",
       "    .dataframe thead th {\n",
       "        text-align: right;\n",
       "    }\n",
       "</style>\n",
       "<table border=\"1\" class=\"dataframe\">\n",
       "  <thead>\n",
       "    <tr style=\"text-align: right;\">\n",
       "      <th></th>\n",
       "      <th>score</th>\n",
       "    </tr>\n",
       "  </thead>\n",
       "  <tbody>\n",
       "    <tr>\n",
       "      <th>Q6 | Any full-sized candy bar</th>\n",
       "      <td>4599.0</td>\n",
       "    </tr>\n",
       "    <tr>\n",
       "      <th>Q6 | ReeseÕs Peanut Butter Cups</th>\n",
       "      <td>4430.0</td>\n",
       "    </tr>\n",
       "    <tr>\n",
       "      <th>Q6 | Kit Kat</th>\n",
       "      <td>4370.0</td>\n",
       "    </tr>\n",
       "    <tr>\n",
       "      <th>Q6 | Cash, or other forms of legal tender</th>\n",
       "      <td>4341.0</td>\n",
       "    </tr>\n",
       "    <tr>\n",
       "      <th>Q6 | Twix</th>\n",
       "      <td>4279.0</td>\n",
       "    </tr>\n",
       "    <tr>\n",
       "      <th>...</th>\n",
       "      <td>...</td>\n",
       "    </tr>\n",
       "    <tr>\n",
       "      <th>Q6 | Kale smoothie</th>\n",
       "      <td>455.0</td>\n",
       "    </tr>\n",
       "    <tr>\n",
       "      <th>Q6 | Real Housewives of Orange County Season 9 Blue-Ray</th>\n",
       "      <td>386.0</td>\n",
       "    </tr>\n",
       "    <tr>\n",
       "      <th>Q6 | Gum from baseball cards</th>\n",
       "      <td>333.0</td>\n",
       "    </tr>\n",
       "    <tr>\n",
       "      <th>Q6 | White Bread</th>\n",
       "      <td>310.0</td>\n",
       "    </tr>\n",
       "    <tr>\n",
       "      <th>Q6 | Broken glow stick</th>\n",
       "      <td>165.0</td>\n",
       "    </tr>\n",
       "  </tbody>\n",
       "</table>\n",
       "<p>103 rows × 1 columns</p>\n",
       "</div>"
      ],
      "text/plain": [
       "                                                     score\n",
       "Q6 | Any full-sized candy bar                       4599.0\n",
       "Q6 | ReeseÕs Peanut Butter Cups                     4430.0\n",
       "Q6 | Kit Kat                                        4370.0\n",
       "Q6 | Cash, or other forms of legal tender           4341.0\n",
       "Q6 | Twix                                           4279.0\n",
       "...                                                    ...\n",
       "Q6 | Kale smoothie                                   455.0\n",
       "Q6 | Real Housewives of Orange County Season 9 ...   386.0\n",
       "Q6 | Gum from baseball cards                         333.0\n",
       "Q6 | White Bread                                     310.0\n",
       "Q6 | Broken glow stick                               165.0\n",
       "\n",
       "[103 rows x 1 columns]"
      ]
     },
     "execution_count": 26,
     "metadata": {},
     "output_type": "execute_result"
    }
   ],
   "source": [
    "candyScore = candyRank.sum()\n",
    "candyScore_df = pd.DataFrame(data=candyScore, columns=['score'])\n",
    "candyScore_df.sort_values(by = ['score'], ascending = False)"
   ]
  },
  {
   "cell_type": "code",
   "execution_count": 27,
   "metadata": {
    "slideshow": {
     "slide_type": "slide"
    }
   },
   "outputs": [
    {
     "data": {
      "text/plain": [
       "<matplotlib.axes._subplots.AxesSubplot at 0x10dcc1780>"
      ]
     },
     "execution_count": 27,
     "metadata": {},
     "output_type": "execute_result"
    },
    {
     "data": {
      "image/png": "[encoded data removed]",
      "text/plain": [
       "<Figure size 1440x720 with 1 Axes>"
      ]
     },
     "metadata": {},
     "output_type": "display_data"
    }
   ],
   "source": [
    "matplotlib.rcParams.update({'font.size': 10})\n",
    "matplotlib.rcParams['figure.figsize'] = 20, 10\n",
    "candyScore_df.plot(kind='bar',y='score',title='USA and Canda Candy Score')"
   ]
  },
  {
   "cell_type": "markdown",
   "metadata": {
    "slideshow": {
     "slide_type": "slide"
    }
   },
   "source": [
    "# Candy scores and ranking for Colorado"
   ]
  },
  {
   "cell_type": "code",
   "execution_count": 28,
   "metadata": {
    "slideshow": {
     "slide_type": "skip"
    }
   },
   "outputs": [],
   "source": [
    "CO_data = candyData.loc[candyData['Q5: STATE, PROVINCE, COUNTY, ETC'] == 'CO']\n",
    "CO_Rank = CO_data.drop(candyData.columns[0:6], axis=1, inplace=False)\n",
    "CO_Rank.replace('JOY', 3, inplace=True)\n",
    "CO_Rank.replace('MEH',1, inplace=True)\n",
    "CO_Rank.replace('DESPAIR',0, inplace=True)"
   ]
  },
  {
   "cell_type": "code",
   "execution_count": 29,
   "metadata": {
    "slideshow": {
     "slide_type": "slide"
    }
   },
   "outputs": [
    {
     "data": {
      "text/html": [
       "<div>\n",
       "<style scoped>\n",
       "    .dataframe tbody tr th:only-of-type {\n",
       "        vertical-align: middle;\n",
       "    }\n",
       "\n",
       "    .dataframe tbody tr th {\n",
       "        vertical-align: top;\n",
       "    }\n",
       "\n",
       "    .dataframe thead th {\n",
       "        text-align: right;\n",
       "    }\n",
       "</style>\n",
       "<table border=\"1\" class=\"dataframe\">\n",
       "  <thead>\n",
       "    <tr style=\"text-align: right;\">\n",
       "      <th></th>\n",
       "      <th>score</th>\n",
       "    </tr>\n",
       "  </thead>\n",
       "  <tbody>\n",
       "    <tr>\n",
       "      <th>Q6 | Any full-sized candy bar</th>\n",
       "      <td>137.0</td>\n",
       "    </tr>\n",
       "    <tr>\n",
       "      <th>Q6 | ReeseÕs Peanut Butter Cups</th>\n",
       "      <td>136.0</td>\n",
       "    </tr>\n",
       "    <tr>\n",
       "      <th>Q6 | Peanut M&amp;MÕs</th>\n",
       "      <td>135.0</td>\n",
       "    </tr>\n",
       "    <tr>\n",
       "      <th>Q6 | Kit Kat</th>\n",
       "      <td>132.0</td>\n",
       "    </tr>\n",
       "    <tr>\n",
       "      <th>Q6 | Cash, or other forms of legal tender</th>\n",
       "      <td>132.0</td>\n",
       "    </tr>\n",
       "    <tr>\n",
       "      <th>...</th>\n",
       "      <td>...</td>\n",
       "    </tr>\n",
       "    <tr>\n",
       "      <th>Q6 | Spotted Dick</th>\n",
       "      <td>12.0</td>\n",
       "    </tr>\n",
       "    <tr>\n",
       "      <th>Q6 | Gum from baseball cards</th>\n",
       "      <td>9.0</td>\n",
       "    </tr>\n",
       "    <tr>\n",
       "      <th>Q6 | Real Housewives of Orange County Season 9 Blue-Ray</th>\n",
       "      <td>8.0</td>\n",
       "    </tr>\n",
       "    <tr>\n",
       "      <th>Q6 | Broken glow stick</th>\n",
       "      <td>7.0</td>\n",
       "    </tr>\n",
       "    <tr>\n",
       "      <th>Q6 | White Bread</th>\n",
       "      <td>6.0</td>\n",
       "    </tr>\n",
       "  </tbody>\n",
       "</table>\n",
       "<p>102 rows × 1 columns</p>\n",
       "</div>"
      ],
      "text/plain": [
       "                                                    score\n",
       "Q6 | Any full-sized candy bar                       137.0\n",
       "Q6 | ReeseÕs Peanut Butter Cups                     136.0\n",
       "Q6 | Peanut M&MÕs                                   135.0\n",
       "Q6 | Kit Kat                                        132.0\n",
       "Q6 | Cash, or other forms of legal tender           132.0\n",
       "...                                                   ...\n",
       "Q6 | Spotted Dick                                    12.0\n",
       "Q6 | Gum from baseball cards                          9.0\n",
       "Q6 | Real Housewives of Orange County Season 9 ...    8.0\n",
       "Q6 | Broken glow stick                                7.0\n",
       "Q6 | White Bread                                      6.0\n",
       "\n",
       "[102 rows x 1 columns]"
      ]
     },
     "execution_count": 29,
     "metadata": {},
     "output_type": "execute_result"
    }
   ],
   "source": [
    "CO_Score = CO_Rank.sum()\n",
    "CO_Score_df = pd.DataFrame(data=CO_Score, columns=['score'])\n",
    "CO_Score_df.sort_values(by = ['score'], ascending = False)"
   ]
  },
  {
   "cell_type": "code",
   "execution_count": 30,
   "metadata": {
    "slideshow": {
     "slide_type": "slide"
    }
   },
   "outputs": [
    {
     "data": {
      "text/plain": [
       "<matplotlib.axes._subplots.AxesSubplot at 0x11a1e1fd0>"
      ]
     },
     "execution_count": 30,
     "metadata": {},
     "output_type": "execute_result"
    },
    {
     "data": {
      "image/png": "[encoded data removed]",
      "text/plain": [
       "<Figure size 1440x720 with 1 Axes>"
      ]
     },
     "metadata": {},
     "output_type": "display_data"
    }
   ],
   "source": [
    "CO_Score_df.plot(kind='bar',y='score',title='CO Candy Score')"
   ]
  },
  {
   "cell_type": "code",
   "execution_count": 31,
   "metadata": {
    "slideshow": {
     "slide_type": "skip"
    }
   },
   "outputs": [],
   "source": [
    "import seaborn as sns"
   ]
  },
  {
   "cell_type": "code",
   "execution_count": 32,
   "metadata": {
    "slideshow": {
     "slide_type": "skip"
    }
   },
   "outputs": [],
   "source": [
    "CO_data = candyData.loc[candyData['Q5: STATE, PROVINCE, COUNTY, ETC'] == 'CO']\n",
    "CO_Gender_Rank = CO_data.drop(candyData.columns[2:5], axis=1, inplace=False)\n",
    "CO_Gender_Rank = CO_Gender_Rank.drop(CO_Gender_Rank.columns[0], axis=1, inplace=False)"
   ]
  },
  {
   "cell_type": "code",
   "execution_count": 33,
   "metadata": {
    "slideshow": {
     "slide_type": "skip"
    }
   },
   "outputs": [],
   "source": [
    "CO_Gender_Rank.replace('JOY', 3, inplace=True)\n",
    "CO_Gender_Rank.replace('MEH',1, inplace=True)\n",
    "CO_Gender_Rank.replace('DESPAIR',0, inplace=True)"
   ]
  },
  {
   "cell_type": "code",
   "execution_count": 34,
   "metadata": {
    "slideshow": {
     "slide_type": "skip"
    }
   },
   "outputs": [],
   "source": [
    "col_list= list(CO_Gender_Rank)\n",
    "col_list.remove('Gender')\n",
    "#col_list"
   ]
  },
  {
   "cell_type": "markdown",
   "metadata": {
    "slideshow": {
     "slide_type": "slide"
    }
   },
   "source": [
    "# Participants ranking by Gender"
   ]
  },
  {
   "cell_type": "code",
   "execution_count": 35,
   "metadata": {
    "slideshow": {
     "slide_type": "slide"
    }
   },
   "outputs": [
    {
     "data": {
      "text/html": [
       "<div>\n",
       "<style scoped>\n",
       "    .dataframe tbody tr th:only-of-type {\n",
       "        vertical-align: middle;\n",
       "    }\n",
       "\n",
       "    .dataframe tbody tr th {\n",
       "        vertical-align: top;\n",
       "    }\n",
       "\n",
       "    .dataframe thead th {\n",
       "        text-align: right;\n",
       "    }\n",
       "</style>\n",
       "<table border=\"1\" class=\"dataframe\">\n",
       "  <thead>\n",
       "    <tr style=\"text-align: right;\">\n",
       "      <th></th>\n",
       "      <th>Gender</th>\n",
       "      <th>score</th>\n",
       "    </tr>\n",
       "    <tr>\n",
       "      <th>Internal ID</th>\n",
       "      <th></th>\n",
       "      <th></th>\n",
       "    </tr>\n",
       "  </thead>\n",
       "  <tbody>\n",
       "    <tr>\n",
       "      <th>90272853</th>\n",
       "      <td>Male</td>\n",
       "      <td>0.0</td>\n",
       "    </tr>\n",
       "    <tr>\n",
       "      <th>90272881</th>\n",
       "      <td>Male</td>\n",
       "      <td>134.0</td>\n",
       "    </tr>\n",
       "    <tr>\n",
       "      <th>90272901</th>\n",
       "      <td>Male</td>\n",
       "      <td>208.0</td>\n",
       "    </tr>\n",
       "    <tr>\n",
       "      <th>90273053</th>\n",
       "      <td>Female</td>\n",
       "      <td>108.0</td>\n",
       "    </tr>\n",
       "    <tr>\n",
       "      <th>90273058</th>\n",
       "      <td>Male</td>\n",
       "      <td>131.0</td>\n",
       "    </tr>\n",
       "    <tr>\n",
       "      <th>...</th>\n",
       "      <td>...</td>\n",
       "      <td>...</td>\n",
       "    </tr>\n",
       "    <tr>\n",
       "      <th>90290159</th>\n",
       "      <td>Male</td>\n",
       "      <td>161.0</td>\n",
       "    </tr>\n",
       "    <tr>\n",
       "      <th>90298440</th>\n",
       "      <td>Female</td>\n",
       "      <td>108.0</td>\n",
       "    </tr>\n",
       "    <tr>\n",
       "      <th>90302275</th>\n",
       "      <td>Female</td>\n",
       "      <td>0.0</td>\n",
       "    </tr>\n",
       "    <tr>\n",
       "      <th>90305572</th>\n",
       "      <td>Male</td>\n",
       "      <td>148.0</td>\n",
       "    </tr>\n",
       "    <tr>\n",
       "      <th>90311056</th>\n",
       "      <td>Male</td>\n",
       "      <td>125.0</td>\n",
       "    </tr>\n",
       "  </tbody>\n",
       "</table>\n",
       "<p>72 rows × 2 columns</p>\n",
       "</div>"
      ],
      "text/plain": [
       "             Gender  score\n",
       "Internal ID               \n",
       "90272853       Male    0.0\n",
       "90272881       Male  134.0\n",
       "90272901       Male  208.0\n",
       "90273053     Female  108.0\n",
       "90273058       Male  131.0\n",
       "...             ...    ...\n",
       "90290159       Male  161.0\n",
       "90298440     Female  108.0\n",
       "90302275     Female    0.0\n",
       "90305572       Male  148.0\n",
       "90311056       Male  125.0\n",
       "\n",
       "[72 rows x 2 columns]"
      ]
     },
     "execution_count": 35,
     "metadata": {},
     "output_type": "execute_result"
    }
   ],
   "source": [
    "CO_Gender_Rank['score'] = CO_Gender_Rank[col_list].sum(axis=1)\n",
    "CO_Gender_Score = CO_Gender_Rank.drop(CO_Gender_Rank[col_list], axis=1, inplace=False)\n",
    "CO_Gender_Score"
   ]
  },
  {
   "cell_type": "code",
   "execution_count": 36,
   "metadata": {
    "slideshow": {
     "slide_type": "slide"
    }
   },
   "outputs": [
    {
     "data": {
      "image/png": "[encoded data removed]",
      "text/plain": [
       "<Figure size 360x360 with 1 Axes>"
      ]
     },
     "metadata": {},
     "output_type": "display_data"
    }
   ],
   "source": [
    "sns.catplot(x=\"Gender\", y=\"score\", kind=\"box\", data=CO_Gender_Rank);"
   ]
  },
  {
   "cell_type": "code",
   "execution_count": null,
   "metadata": {},
   "outputs": [],
   "source": []
  }
 ],
 "metadata": {
  "celltoolbar": "Slideshow",
  "kernelspec": {
   "display_name": "Python 3",
   "language": "python",
   "name": "python3"
  },
  "language_info": {
   "codemirror_mode": {
    "name": "ipython",
    "version": 3
   },
   "file_extension": ".py",
   "mimetype": "text/x-python",
   "name": "python",
   "nbconvert_exporter": "python",
   "pygments_lexer": "ipython3",
   "version": "3.6.8"
  }
 },
 "nbformat": 4,
 "nbformat_minor": 2
}
