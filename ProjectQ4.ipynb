{
 "cells": [
  {
   "cell_type": "code",
   "execution_count": 248,
   "metadata": {},
   "outputs": [
    {
     "data": {
      "text/plain": [
       "array([nan, 'USA ', 'USA', 'us', 'usa', 'canada', 'Canada', 'Us', 'US',\n",
       "       'Murica', 'United States', 'uk', 'United Kingdom', 'united states',\n",
       "       'Usa', 'United States ', 'United staes',\n",
       "       'United States of America', 'UAE', 'England', 'UK', 'canada ',\n",
       "       'Mexico', 'United states', 'u.s.a.', 'USAUSAUSA', 'america', '35',\n",
       "       'france', 'United States of America ', 'U.S.A.', 'finland',\n",
       "       'unhinged states', 'Canada ', 'united states of america',\n",
       "       'US of A', 'Unites States', 'The United States', 'North Carolina ',\n",
       "       'Unied States', 'Netherlands', 'germany', 'Europe', 'Earth', 'U S',\n",
       "       'u.s.', 'U.K. ', 'Costa Rica', 'The United States of America',\n",
       "       'unite states', 'U.S.', '46', 'cascadia', 'Australia',\n",
       "       'insanity lately', 'Greece', 'USA? Hard to tell anymore..',\n",
       "       \"'merica\", 'usas', 'Pittsburgh', '45', 'United State', '32',\n",
       "       'France', 'australia', 'A', 'Can', 'Canae', 'New York',\n",
       "       'Trumpistan', 'Ireland', 'United Sates', 'Korea', 'California',\n",
       "       'Japan', 'USa', 'South africa',\n",
       "       'I pretend to be from Canada, but I am really from the United States.',\n",
       "       'Usa ', 'Uk', 'Iceland', 'Germany', 'Canada`', 'Scotland', 'UK ',\n",
       "       'Denmark', 'United Stated', 'France ', 'Switzerland',\n",
       "       'Ahem....Amerca', 'UD', 'Scotland ', 'South Korea', 'New Jersey',\n",
       "       'CANADA', 'Indonesia', 'United ststes', 'America',\n",
       "       'The Netherlands', 'United Statss', 'endland', 'Atlantis',\n",
       "       'murrika', 'USA! USA! USA!', 'USAA', 'Alaska', 'united States ',\n",
       "       'soviet canuckistan', 'N. America', 'Singapore', 'USSA', 'China',\n",
       "       'Taiwan', 'Ireland ', 'hong kong', 'spain', 'Sweden', 'Hong Kong',\n",
       "       'U.S. ', 'Narnia', 'u s a', 'United Statea', 'united ststes', '1',\n",
       "       'subscribe to dm4uz3 on youtube', 'United kingdom',\n",
       "       'USA USA USA!!!!', \"I don't know anymore\", 'Fear and Loathing'],\n",
       "      dtype=object)"
      ]
     },
     "execution_count": 248,
     "metadata": {},
     "output_type": "execute_result"
    }
   ],
   "source": [
    "import pandas as pd\n",
    "import numpy as np\n",
    "\n",
    "candyData = pd.read_csv('candyhierarchy2017.csv',encoding = 'ISO-8859-1')\n",
    "df=pd.DataFrame(candyData)\n",
    "df_country=candyData['Q4: COUNTRY']\n",
    "\n",
    "\n",
    "#find the unique country\n",
    "unique_country=df['Q4: COUNTRY'].unique()\n",
    "\n",
    "unique_country\n"
   ]
  },
  {
   "cell_type": "code",
   "execution_count": null,
   "metadata": {},
   "outputs": [],
   "source": []
  },
  {
   "cell_type": "code",
   "execution_count": 245,
   "metadata": {
    "scrolled": true
   },
   "outputs": [],
   "source": [
    "df['Q4: COUNTRY']=df['Q4: COUNTRY'].str.lower()\n",
    "usa={'usa', 'us', 'united states','america', 'u.s','u s','u.s.', 'u s a', 'unite states', 'united state'}\n",
    "canadas={'canada', 'can'}\n",
    "for row in range(len( df['Q4: COUNTRY'])):\n",
    "    for u in usa:\n",
    "        if u in str(df['Q4: COUNTRY'].iloc[row]) :\n",
    "            df.at[row,'Q4: COUNTRY'] ='USA'\n",
    "    for c in canadas:\n",
    "        if c in str(df['Q4: COUNTRY'].iloc[row]) :\n",
    "            df.at[row,'Q4: COUNTRY'] ='Canada'\n",
    "    \n",
    "for row in range(len( df['Q4: COUNTRY'])):\n",
    "    if ('USA' not in str(df['Q4: COUNTRY'].iloc[row])):\n",
    "        if ('Canada'not in str(df['Q4: COUNTRY'].iloc[row])) :\n",
    "            df.at[row, 'Q4: COUNTRY']=np.NaN\n",
    "\n",
    "\n"
   ]
  },
  {
   "cell_type": "code",
   "execution_count": 246,
   "metadata": {},
   "outputs": [
    {
     "data": {
      "text/plain": [
       "0          NaN\n",
       "1          USA\n",
       "2          USA\n",
       "3          USA\n",
       "4          USA\n",
       "5          NaN\n",
       "6          USA\n",
       "7       Canada\n",
       "8       Canada\n",
       "9          USA\n",
       "10         NaN\n",
       "11      Canada\n",
       "12         USA\n",
       "13         NaN\n",
       "14      Canada\n",
       "15         USA\n",
       "16         USA\n",
       "17         USA\n",
       "18         USA\n",
       "19         USA\n",
       "20         NaN\n",
       "21      Canada\n",
       "22         USA\n",
       "23         USA\n",
       "24         USA\n",
       "25         NaN\n",
       "26         USA\n",
       "27         USA\n",
       "28         USA\n",
       "29         USA\n",
       "         ...  \n",
       "2430    Canada\n",
       "2431       NaN\n",
       "2432       USA\n",
       "2433       USA\n",
       "2434       USA\n",
       "2435       USA\n",
       "2436       USA\n",
       "2437       USA\n",
       "2438       USA\n",
       "2439       USA\n",
       "2440       NaN\n",
       "2441       USA\n",
       "2442       USA\n",
       "2443       USA\n",
       "2444    Canada\n",
       "2445    Canada\n",
       "2446       USA\n",
       "2447       USA\n",
       "2448       USA\n",
       "2449       USA\n",
       "2450       NaN\n",
       "2451       USA\n",
       "2452    Canada\n",
       "2453    Canada\n",
       "2454       USA\n",
       "2455       USA\n",
       "2456       USA\n",
       "2457       USA\n",
       "2458       USA\n",
       "2459       USA\n",
       "Name: Q4: COUNTRY, Length: 2460, dtype: object"
      ]
     },
     "execution_count": 246,
     "metadata": {},
     "output_type": "execute_result"
    }
   ],
   "source": [
    "df['Q4: COUNTRY']"
   ]
  },
  {
   "cell_type": "code",
   "execution_count": null,
   "metadata": {},
   "outputs": [],
   "source": []
  }
 ],
 "metadata": {
  "kernelspec": {
   "display_name": "Python 3",
   "language": "python",
   "name": "python3"
  },
  "language_info": {
   "codemirror_mode": {
    "name": "ipython",
    "version": 3
   },
   "file_extension": ".py",
   "mimetype": "text/x-python",
   "name": "python",
   "nbconvert_exporter": "python",
   "pygments_lexer": "ipython3",
   "version": "3.7.1"
  }
 },
 "nbformat": 4,
 "nbformat_minor": 2
}
