{
 "cells": [
  {
   "cell_type": "code",
   "execution_count": 234,
   "metadata": {},
   "outputs": [],
   "source": [
    "import pandas as pd\n",
    "import numpy as np\n",
    "\n",
    "f=pd.read_csv('candyhierarchy2017.csv', encoding='latin-1')\n",
    "df=pd.DataFrame(f)\n",
    "\n",
    "#check if there is any empty cell\n",
    "df['Q4: COUNTRY'].isnull().sum()\n",
    "\n",
    "\n",
    "#find the unique country\n",
    "unique_country=df['Q4: COUNTRY'].unique()\n",
    "\n",
    "\n"
   ]
  },
  {
   "cell_type": "code",
   "execution_count": null,
   "metadata": {},
   "outputs": [],
   "source": []
  },
  {
   "cell_type": "code",
   "execution_count": 235,
   "metadata": {
    "scrolled": true
   },
   "outputs": [],
   "source": [
    "df['Q4: COUNTRY']=df['Q4: COUNTRY'].str.lower()\n",
    "usa={'usa', 'us', 'united states','america', 'u.s','u s','u.s.', 'u s a', 'unite states', 'united state'}\n",
    "canadas={'canada', 'can'}\n",
    "for row in range(len( df['Q4: COUNTRY'])):\n",
    "    for u in usa:\n",
    "        if u in str(df['Q4: COUNTRY'].iloc[row]) :\n",
    "            df.at[row,'Q4: COUNTRY'] ='USA'\n",
    "    for c in canadas:\n",
    "        if c in str(df['Q4: COUNTRY'].iloc[row]) :\n",
    "            df.at[row,'Q4: COUNTRY'] ='Canada'\n",
    "    \n",
    "for row in range(len( df['Q4: COUNTRY'])):\n",
    "    if ('USA' not in str(df['Q4: COUNTRY'].iloc[row])):\n",
    "        if ('Canada'not in str(df['Q4: COUNTRY'].iloc[row])) :\n",
    "            df.at[row, 'Q4: COUNTRY']=np.NaN\n",
    "\n",
    "\n",
    "\n"
   ]
  },
  {
   "cell_type": "code",
   "execution_count": 189,
   "metadata": {},
   "outputs": [],
   "source": []
  },
  {
   "cell_type": "code",
   "execution_count": null,
   "metadata": {},
   "outputs": [],
   "source": []
  }
 ],
 "metadata": {
  "kernelspec": {
   "display_name": "Python 3",
   "language": "python",
   "name": "python3"
  },
  "language_info": {
   "codemirror_mode": {
    "name": "ipython",
    "version": 3
   },
   "file_extension": ".py",
   "mimetype": "text/x-python",
   "name": "python",
   "nbconvert_exporter": "python",
   "pygments_lexer": "ipython3",
   "version": "3.7.1"
  }
 },
 "nbformat": 4,
 "nbformat_minor": 2
}
